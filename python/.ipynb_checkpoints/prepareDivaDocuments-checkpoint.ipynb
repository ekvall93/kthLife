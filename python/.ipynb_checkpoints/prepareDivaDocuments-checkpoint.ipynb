{
 "cells": [
  {
   "cell_type": "code",
   "execution_count": 3,
   "metadata": {},
   "outputs": [],
   "source": [
    "%matplotlib inline\n",
    "\n",
    "import numpy as np\n",
    "import matplotlib.pyplot as plt\n",
    "import pandas as pd\n",
    "import seaborn as sns"
   ]
  },
  {
   "cell_type": "code",
   "execution_count": 3,
   "metadata": {},
   "outputs": [],
   "source": [
    "PATH = \"./assets/diva_2004\""
   ]
  },
  {
   "cell_type": "code",
   "execution_count": 4,
   "metadata": {},
   "outputs": [
    {
     "name": "stdout",
     "output_type": "stream",
     "text": [
      "Dataset-explanation.xlsx\tDiVA-WoS-keywordsplus-2004-18.txt\r\n",
      "DiVA-KTH-authors-2004-18.txt\tDiVA-all-authors-2004-18.txt\r\n",
      "DiVA-WoS-abstracts-2004-18.txt\tDiVA-records-2004-2018.txt\r\n",
      "DiVA-WoS-keywords-2004-18.txt\r\n"
     ]
    }
   ],
   "source": [
    "!ls {PATH}"
   ]
  },
  {
   "cell_type": "markdown",
   "metadata": {},
   "source": [
    "Där finns en Excel-fil som förklara vissa datafält/kolumner i två tabeller (DiVA-record och DiVA-all-authors).\n",
    "Det finns sex olika filer som är tab-separerade.\n",
    "1.       Diva-records: innehåller info för varje post i diva och som är publicerat på engelska mellan 2014-2018. Viktiga variabler: PID, doc_id.\n",
    "2.       Diva-wos-keywords: innehåller nyckelord som författare anger i sina WoS-publikationer (sub-dataset i DiVA) Viktiga variabler: doc_id.\n",
    "3.       Diva-wos-keywordplus: innehåller nyckelord som databasen WoS automatiskt tilldelar till publikationer. (sub-dataset i DiVA) Viktiga variabler: doc_id.\n",
    "4.       Diva-wos-abstract: innehåller abstract till samtliga publikationer i WoS. Samma data ska finnas i tabellen ’Diva-records’. Viktiga variabler: doc_id.\n",
    "5.       Diva-all-authors: innehåller namn, id och info för samtliga medförfattare. Viktiga variabler: PID, doc-id, diva-author-id.\n",
    "6.       Diva-KTH-authors: innehåller samma info men för enbart KTH forskare. Det är bara våra forskare som har info angående institutionstillhörighet."
   ]
  },
  {
   "cell_type": "markdown",
   "metadata": {},
   "source": [
    "# 1.Diva-records: innehåller info för varje post i diva och som är publicerat på engelska mellan 2014-2018. Viktiga variabler: PID, doc_id."
   ]
  },
  {
   "cell_type": "code",
   "execution_count": 7,
   "metadata": {},
   "outputs": [
    {
     "name": "stdout",
     "output_type": "stream",
     "text": [
      "PID\tDOI\tISI\tDoc_id\tPMID\tScopusId\tTitle\tDoc_Year\tPublicationType\tContentType\tpt_new\tpt_ordning\tDoc_Language\tJournal\tJournalISSN\tPublisher\tSeries\tSeriesISSN\tISBN\tKeywords\tCategories\tResearchSubjects\tProjects\tAbstract\tPublicationSubtype\tConference\tbiblio_uppg\r",
      "\r\n"
     ]
    }
   ],
   "source": [
    "!head -n1 '{PATH}/DiVA-records-2004-2018.txt'"
   ]
  },
  {
   "cell_type": "code",
   "execution_count": 8,
   "metadata": {},
   "outputs": [],
   "source": [
    "col_names_diva_records = [\"PID\",\"DOI\",\"ISI\",\"Doc_id\",\"PMID\",\"ScopusId\",\"Title\",\"Doc_Year\",\"PublicationType\",\"ContentType\",\n",
    "             \"pt_new\",\"pt_ordning\",\"Doc_Language\",\"Journal\",\"JournalISSN\",\"Publisher\",\"Series\",\"SeriesISSN\",\"ISBN\",\n",
    "                \"Keywords\", \"Categories\", \"ResearchSubjects\", \"Projects\",\"Abstract\",\"PublicationSubtype\",\n",
    "                \"Conference\",\"biblio_uppg\"]\n",
    "\n",
    "\n"
   ]
  },
  {
   "cell_type": "code",
   "execution_count": 11,
   "metadata": {},
   "outputs": [
    {
     "name": "stderr",
     "output_type": "stream",
     "text": [
      "/home/ekvall/anaconda3/envs/kth-cluster/lib/python3.6/site-packages/IPython/core/interactiveshell.py:3049: DtypeWarning: Columns (4) have mixed types. Specify dtype option on import or set low_memory=False.\n",
      "  interactivity=interactivity, compiler=compiler, result=result)\n"
     ]
    }
   ],
   "source": [
    "diva_records = pd.read_csv(filepath_or_buffer=f\"{PATH}/DiVA-records-2004-2018.txt\",names=col_names_diva_records,delimiter=\"\\t\", skiprows=1)\n",
    "\n",
    "\n"
   ]
  },
  {
   "cell_type": "code",
   "execution_count": 12,
   "metadata": {},
   "outputs": [
    {
     "data": {
      "text/html": [
       "<div>\n",
       "<style scoped>\n",
       "    .dataframe tbody tr th:only-of-type {\n",
       "        vertical-align: middle;\n",
       "    }\n",
       "\n",
       "    .dataframe tbody tr th {\n",
       "        vertical-align: top;\n",
       "    }\n",
       "\n",
       "    .dataframe thead th {\n",
       "        text-align: right;\n",
       "    }\n",
       "</style>\n",
       "<table border=\"1\" class=\"dataframe\">\n",
       "  <thead>\n",
       "    <tr style=\"text-align: right;\">\n",
       "      <th></th>\n",
       "      <th>PID</th>\n",
       "      <th>DOI</th>\n",
       "      <th>ISI</th>\n",
       "      <th>Doc_id</th>\n",
       "      <th>PMID</th>\n",
       "      <th>ScopusId</th>\n",
       "      <th>Title</th>\n",
       "      <th>Doc_Year</th>\n",
       "      <th>PublicationType</th>\n",
       "      <th>ContentType</th>\n",
       "      <th>...</th>\n",
       "      <th>SeriesISSN</th>\n",
       "      <th>ISBN</th>\n",
       "      <th>Keywords</th>\n",
       "      <th>Categories</th>\n",
       "      <th>ResearchSubjects</th>\n",
       "      <th>Projects</th>\n",
       "      <th>Abstract</th>\n",
       "      <th>PublicationSubtype</th>\n",
       "      <th>Conference</th>\n",
       "      <th>biblio_uppg</th>\n",
       "    </tr>\n",
       "  </thead>\n",
       "  <tbody>\n",
       "    <tr>\n",
       "      <th>0</th>\n",
       "      <td>10043</td>\n",
       "      <td>10.1177/0021998304040559</td>\n",
       "      <td>000220671000003</td>\n",
       "      <td>33254889</td>\n",
       "      <td>NaN</td>\n",
       "      <td>2-s2.0-1842526619</td>\n",
       "      <td>Compressive failure of impacted NCF composite ...</td>\n",
       "      <td>2004</td>\n",
       "      <td>Artikel i tidskrift</td>\n",
       "      <td>Refereegranskat</td>\n",
       "      <td>...</td>\n",
       "      <td>NaN</td>\n",
       "      <td>NaN</td>\n",
       "      <td>CAI;CFRP;Damage tolerance;Fractography;Sandwich</td>\n",
       "      <td>Tillförlitlighets- och kvalitetsteknik (20305)</td>\n",
       "      <td>NaN</td>\n",
       "      <td>NaN</td>\n",
       "      <td>&lt;p&gt;In the present study, non-crimp fabric (NCF...</td>\n",
       "      <td>NaN</td>\n",
       "      <td>NaN</td>\n",
       "      <td>Edgren, Fredrik,  Asp, Lars E.,  Bull, Peter H...</td>\n",
       "    </tr>\n",
       "    <tr>\n",
       "      <th>1</th>\n",
       "      <td>10065</td>\n",
       "      <td>10.1016/j.apcatb.2004.09.001</td>\n",
       "      <td>000224948100007</td>\n",
       "      <td>34027645</td>\n",
       "      <td>NaN</td>\n",
       "      <td>2-s2.0-6044269328</td>\n",
       "      <td>Thermal gas treatment to regenerate spent auto...</td>\n",
       "      <td>2004</td>\n",
       "      <td>Artikel i tidskrift</td>\n",
       "      <td>Refereegranskat</td>\n",
       "      <td>...</td>\n",
       "      <td>NaN</td>\n",
       "      <td>NaN</td>\n",
       "      <td>Automotive catalyst; Dispersion; Oxy-chlorine;...</td>\n",
       "      <td>Kemi (104)</td>\n",
       "      <td>NaN</td>\n",
       "      <td>NaN</td>\n",
       "      <td>&lt;p&gt;The effect of regeneration on the metal dis...</td>\n",
       "      <td>NaN</td>\n",
       "      <td>NaN</td>\n",
       "      <td>Birgersson, Henrik,  Eriksson, L,  Boutonnet, ...</td>\n",
       "    </tr>\n",
       "    <tr>\n",
       "      <th>2</th>\n",
       "      <td>10082</td>\n",
       "      <td>10.1016/j.ab.2004.07.003</td>\n",
       "      <td>000224710600007</td>\n",
       "      <td>34001109</td>\n",
       "      <td>NaN</td>\n",
       "      <td>2-s2.0-4644337415</td>\n",
       "      <td>Fluorescence resonance energy transfer-based d...</td>\n",
       "      <td>2004</td>\n",
       "      <td>Artikel i tidskrift</td>\n",
       "      <td>Refereegranskat</td>\n",
       "      <td>...</td>\n",
       "      <td>NaN</td>\n",
       "      <td>NaN</td>\n",
       "      <td>antibody variable domains;bacterial receptor d...</td>\n",
       "      <td>Biokemi och molekylärbiologi (10602)</td>\n",
       "      <td>NaN</td>\n",
       "      <td>NaN</td>\n",
       "      <td>&lt;p&gt;A new method for specific detection of prot...</td>\n",
       "      <td>NaN</td>\n",
       "      <td>NaN</td>\n",
       "      <td>Renberg, Björn,  Nygren, Per-Åke,  Eklund, Mal...</td>\n",
       "    </tr>\n",
       "  </tbody>\n",
       "</table>\n",
       "<p>3 rows × 27 columns</p>\n",
       "</div>"
      ],
      "text/plain": [
       "     PID                           DOI              ISI    Doc_id PMID  \\\n",
       "0  10043      10.1177/0021998304040559  000220671000003  33254889  NaN   \n",
       "1  10065  10.1016/j.apcatb.2004.09.001  000224948100007  34027645  NaN   \n",
       "2  10082      10.1016/j.ab.2004.07.003  000224710600007  34001109  NaN   \n",
       "\n",
       "            ScopusId                                              Title  \\\n",
       "0  2-s2.0-1842526619  Compressive failure of impacted NCF composite ...   \n",
       "1  2-s2.0-6044269328  Thermal gas treatment to regenerate spent auto...   \n",
       "2  2-s2.0-4644337415  Fluorescence resonance energy transfer-based d...   \n",
       "\n",
       "   Doc_Year      PublicationType      ContentType  ... SeriesISSN  ISBN  \\\n",
       "0      2004  Artikel i tidskrift  Refereegranskat  ...        NaN   NaN   \n",
       "1      2004  Artikel i tidskrift  Refereegranskat  ...        NaN   NaN   \n",
       "2      2004  Artikel i tidskrift  Refereegranskat  ...        NaN   NaN   \n",
       "\n",
       "                                            Keywords  \\\n",
       "0    CAI;CFRP;Damage tolerance;Fractography;Sandwich   \n",
       "1  Automotive catalyst; Dispersion; Oxy-chlorine;...   \n",
       "2  antibody variable domains;bacterial receptor d...   \n",
       "\n",
       "                                       Categories ResearchSubjects Projects  \\\n",
       "0  Tillförlitlighets- och kvalitetsteknik (20305)              NaN      NaN   \n",
       "1                                      Kemi (104)              NaN      NaN   \n",
       "2            Biokemi och molekylärbiologi (10602)              NaN      NaN   \n",
       "\n",
       "                                            Abstract  PublicationSubtype  \\\n",
       "0  <p>In the present study, non-crimp fabric (NCF...                 NaN   \n",
       "1  <p>The effect of regeneration on the metal dis...                 NaN   \n",
       "2  <p>A new method for specific detection of prot...                 NaN   \n",
       "\n",
       "  Conference                                        biblio_uppg  \n",
       "0        NaN  Edgren, Fredrik,  Asp, Lars E.,  Bull, Peter H...  \n",
       "1        NaN  Birgersson, Henrik,  Eriksson, L,  Boutonnet, ...  \n",
       "2        NaN  Renberg, Björn,  Nygren, Per-Åke,  Eklund, Mal...  \n",
       "\n",
       "[3 rows x 27 columns]"
      ]
     },
     "execution_count": 12,
     "metadata": {},
     "output_type": "execute_result"
    }
   ],
   "source": [
    "diva_records.head(3)"
   ]
  },
  {
   "cell_type": "markdown",
   "metadata": {},
   "source": [
    "# 2.Diva-wos-keywords: innehåller nyckelord som författare anger i sina WoS-publikationer (sub-dataset i DiVA) Viktiga variabler: doc_id."
   ]
  },
  {
   "cell_type": "code",
   "execution_count": 13,
   "metadata": {},
   "outputs": [
    {
     "name": "stdout",
     "output_type": "stream",
     "text": [
      "Doc_id\tAuth_keyw_id\tKeyword\r",
      "\r\n"
     ]
    }
   ],
   "source": [
    "!head -n1 '{PATH}/DiVA-WoS-keywords-2004-18.txt'"
   ]
  },
  {
   "cell_type": "code",
   "execution_count": 14,
   "metadata": {},
   "outputs": [],
   "source": [
    "col_names_keywords = [\"Doc_id\",\"Auth_keyw_id\",\"Keyword\"]"
   ]
  },
  {
   "cell_type": "code",
   "execution_count": 15,
   "metadata": {},
   "outputs": [],
   "source": [
    "keywords = pd.read_csv(filepath_or_buffer=f\"{PATH}/DiVA-WoS-keywords-2004-18.txt\",names=col_names_keywords, delimiter=\"\\t\",skiprows=1)\n",
    "\n",
    "\n"
   ]
  },
  {
   "cell_type": "code",
   "execution_count": 16,
   "metadata": {},
   "outputs": [
    {
     "data": {
      "text/html": [
       "<div>\n",
       "<style scoped>\n",
       "    .dataframe tbody tr th:only-of-type {\n",
       "        vertical-align: middle;\n",
       "    }\n",
       "\n",
       "    .dataframe tbody tr th {\n",
       "        vertical-align: top;\n",
       "    }\n",
       "\n",
       "    .dataframe thead th {\n",
       "        text-align: right;\n",
       "    }\n",
       "</style>\n",
       "<table border=\"1\" class=\"dataframe\">\n",
       "  <thead>\n",
       "    <tr style=\"text-align: right;\">\n",
       "      <th></th>\n",
       "      <th>Doc_id</th>\n",
       "      <th>Auth_keyw_id</th>\n",
       "      <th>Keyword</th>\n",
       "    </tr>\n",
       "  </thead>\n",
       "  <tbody>\n",
       "    <tr>\n",
       "      <th>0</th>\n",
       "      <td>3551059</td>\n",
       "      <td>4172937</td>\n",
       "      <td>long wavelength</td>\n",
       "    </tr>\n",
       "    <tr>\n",
       "      <th>1</th>\n",
       "      <td>3551059</td>\n",
       "      <td>4172938</td>\n",
       "      <td>vertical cavity laser</td>\n",
       "    </tr>\n",
       "  </tbody>\n",
       "</table>\n",
       "</div>"
      ],
      "text/plain": [
       "    Doc_id  Auth_keyw_id                Keyword\n",
       "0  3551059       4172937        long wavelength\n",
       "1  3551059       4172938  vertical cavity laser"
      ]
     },
     "execution_count": 16,
     "metadata": {},
     "output_type": "execute_result"
    }
   ],
   "source": [
    "keywords.head(2)"
   ]
  },
  {
   "cell_type": "markdown",
   "metadata": {},
   "source": [
    "# 3.       Diva-wos-keywordplus: innehåller nyckelord som databasen WoS automatiskt tilldelar till publikationer. (sub-dataset i DiVA) Viktiga variabler: doc_id."
   ]
  },
  {
   "cell_type": "code",
   "execution_count": 17,
   "metadata": {},
   "outputs": [
    {
     "name": "stdout",
     "output_type": "stream",
     "text": [
      "Doc_id\tKWP_id\tKeyword\r",
      "\r\n"
     ]
    }
   ],
   "source": [
    "!head -n1 '{PATH}/DiVA-WoS-keywordsplus-2004-18.txt'"
   ]
  },
  {
   "cell_type": "code",
   "execution_count": 18,
   "metadata": {},
   "outputs": [],
   "source": [
    "col_names_keywords_plus = [\"Doc_id\",\"KWP_id\",\"Keyword\"]"
   ]
  },
  {
   "cell_type": "code",
   "execution_count": 19,
   "metadata": {},
   "outputs": [],
   "source": [
    "keywords_plus = pd.read_csv(filepath_or_buffer=f\"{PATH}/DiVA-WoS-keywordsplus-2004-18.txt\", names=col_names_keywords_plus, delimiter=\"\\t\",skiprows=1)#;keywords.drop(index=0,inplace=True)"
   ]
  },
  {
   "cell_type": "code",
   "execution_count": 20,
   "metadata": {},
   "outputs": [
    {
     "data": {
      "text/html": [
       "<div>\n",
       "<style scoped>\n",
       "    .dataframe tbody tr th:only-of-type {\n",
       "        vertical-align: middle;\n",
       "    }\n",
       "\n",
       "    .dataframe tbody tr th {\n",
       "        vertical-align: top;\n",
       "    }\n",
       "\n",
       "    .dataframe thead th {\n",
       "        text-align: right;\n",
       "    }\n",
       "</style>\n",
       "<table border=\"1\" class=\"dataframe\">\n",
       "  <thead>\n",
       "    <tr style=\"text-align: right;\">\n",
       "      <th></th>\n",
       "      <th>Doc_id</th>\n",
       "      <th>KWP_id</th>\n",
       "      <th>Keyword</th>\n",
       "    </tr>\n",
       "  </thead>\n",
       "  <tbody>\n",
       "    <tr>\n",
       "      <th>197138</th>\n",
       "      <td>89995430</td>\n",
       "      <td>330097096</td>\n",
       "      <td>BONE</td>\n",
       "    </tr>\n",
       "    <tr>\n",
       "      <th>197139</th>\n",
       "      <td>89995430</td>\n",
       "      <td>330097097</td>\n",
       "      <td>SURFACE</td>\n",
       "    </tr>\n",
       "    <tr>\n",
       "      <th>197140</th>\n",
       "      <td>89995430</td>\n",
       "      <td>330097098</td>\n",
       "      <td>DIFFERENTIATION</td>\n",
       "    </tr>\n",
       "    <tr>\n",
       "      <th>197141</th>\n",
       "      <td>89995430</td>\n",
       "      <td>330097099</td>\n",
       "      <td>PROLIFERATION</td>\n",
       "    </tr>\n",
       "    <tr>\n",
       "      <th>197142</th>\n",
       "      <td>89995430</td>\n",
       "      <td>330097100</td>\n",
       "      <td>ATTACHMENT</td>\n",
       "    </tr>\n",
       "  </tbody>\n",
       "</table>\n",
       "</div>"
      ],
      "text/plain": [
       "          Doc_id     KWP_id          Keyword\n",
       "197138  89995430  330097096             BONE\n",
       "197139  89995430  330097097          SURFACE\n",
       "197140  89995430  330097098  DIFFERENTIATION\n",
       "197141  89995430  330097099    PROLIFERATION\n",
       "197142  89995430  330097100       ATTACHMENT"
      ]
     },
     "execution_count": 20,
     "metadata": {},
     "output_type": "execute_result"
    }
   ],
   "source": [
    "keywords_plus.tail()"
   ]
  },
  {
   "cell_type": "markdown",
   "metadata": {},
   "source": [
    "# 4.       Diva-wos-abstract: innehåller abstract till samtliga publikationer i WoS. Samma data ska finnas i tabellen ’Diva-records’. Viktiga variabler: doc_id."
   ]
  },
  {
   "cell_type": "code",
   "execution_count": 22,
   "metadata": {},
   "outputs": [
    {
     "name": "stdout",
     "output_type": "stream",
     "text": [
      "Doc_id\tAbstract_id\tText\r",
      "\r\n"
     ]
    }
   ],
   "source": [
    "!head -n1 '{PATH}/DiVA-WoS-abstracts-2004-18.txt'"
   ]
  },
  {
   "cell_type": "code",
   "execution_count": 23,
   "metadata": {},
   "outputs": [],
   "source": [
    "col_abstract = [\"Doc_id\",\"Abstract_id\",\"Text\"]"
   ]
  },
  {
   "cell_type": "code",
   "execution_count": 24,
   "metadata": {},
   "outputs": [],
   "source": [
    "abstract = pd.read_csv(filepath_or_buffer=f\"{PATH}/DiVA-WoS-abstracts-2004-18.txt\",names=col_abstract, delimiter=\"\\t\",skiprows=1)\n",
    "\n"
   ]
  },
  {
   "cell_type": "code",
   "execution_count": 25,
   "metadata": {},
   "outputs": [
    {
     "data": {
      "text/html": [
       "<div>\n",
       "<style scoped>\n",
       "    .dataframe tbody tr th:only-of-type {\n",
       "        vertical-align: middle;\n",
       "    }\n",
       "\n",
       "    .dataframe tbody tr th {\n",
       "        vertical-align: top;\n",
       "    }\n",
       "\n",
       "    .dataframe thead th {\n",
       "        text-align: right;\n",
       "    }\n",
       "</style>\n",
       "<table border=\"1\" class=\"dataframe\">\n",
       "  <thead>\n",
       "    <tr style=\"text-align: right;\">\n",
       "      <th></th>\n",
       "      <th>Doc_id</th>\n",
       "      <th>Abstract_id</th>\n",
       "      <th>Text</th>\n",
       "    </tr>\n",
       "  </thead>\n",
       "  <tbody>\n",
       "    <tr>\n",
       "      <th>0</th>\n",
       "      <td>3551059</td>\n",
       "      <td>2457985</td>\n",
       "      <td>We describe the development of long-wavelength...</td>\n",
       "    </tr>\n",
       "    <tr>\n",
       "      <th>1</th>\n",
       "      <td>3567406</td>\n",
       "      <td>2472302</td>\n",
       "      <td>Thick section copper canisters are planned to ...</td>\n",
       "    </tr>\n",
       "    <tr>\n",
       "      <th>2</th>\n",
       "      <td>3567406</td>\n",
       "      <td>2472303</td>\n",
       "      <td>Specimens cut from the friction stir welds and...</td>\n",
       "    </tr>\n",
       "  </tbody>\n",
       "</table>\n",
       "</div>"
      ],
      "text/plain": [
       "    Doc_id  Abstract_id                                               Text\n",
       "0  3551059      2457985  We describe the development of long-wavelength...\n",
       "1  3567406      2472302  Thick section copper canisters are planned to ...\n",
       "2  3567406      2472303  Specimens cut from the friction stir welds and..."
      ]
     },
     "execution_count": 25,
     "metadata": {},
     "output_type": "execute_result"
    }
   ],
   "source": [
    "abstract.head(3)"
   ]
  },
  {
   "cell_type": "markdown",
   "metadata": {},
   "source": [
    "# 5.       Diva-all-authors: innehåller namn, id och info för samtliga medförfattare. Viktiga variabler: PID, doc-id, diva-author-id."
   ]
  },
  {
   "cell_type": "code",
   "execution_count": 26,
   "metadata": {},
   "outputs": [
    {
     "name": "stdout",
     "output_type": "stream",
     "text": [
      "PID\tDiva_author_id\tName\tKTH_id\tORCID_iD\tDiva_school_id\tskola_namn\tDiva_dep_id\tdep_name\tDiva_sub_dep_id\tsub_dep_name\tDoc_id\r",
      "\r\n"
     ]
    }
   ],
   "source": [
    "!head -n1 '{PATH}/DiVA-all-authors-2004-18.txt'"
   ]
  },
  {
   "cell_type": "code",
   "execution_count": 27,
   "metadata": {},
   "outputs": [],
   "source": [
    "col_all_author = [\"PID\",\"Diva_author_id\",\"Name\",\"KTH_id\",\"ORCID_iD\",\"Diva_school_id\",\"skola_namn\",\"Diva_dep_id\",\n",
    "             \"dep_name\",\"Diva_sub_dep_id\",\"sub_dep_name\",\"Doc_id\"]"
   ]
  },
  {
   "cell_type": "code",
   "execution_count": 28,
   "metadata": {},
   "outputs": [],
   "source": [
    "all_author = pd.read_csv(filepath_or_buffer=f\"{PATH}/DiVA-all-authors-2004-18.txt\",names=col_all_author, delimiter=\"\\t\",skiprows=1)\n",
    "\n"
   ]
  },
  {
   "cell_type": "markdown",
   "metadata": {},
   "source": [
    "# 6.       Diva-KTH-authors: innehåller samma info men för enbart KTH forskare. Det är bara våra forskare som har info angående institutionstillhörighet."
   ]
  },
  {
   "cell_type": "code",
   "execution_count": 29,
   "metadata": {},
   "outputs": [
    {
     "name": "stdout",
     "output_type": "stream",
     "text": [
      "PID\tDoc_id\tDiva_author_id\tKTH_id\tName\tDiva_school_id\tskola_namn\tDiva_dep_id\tdep_name\tDiva_sub_dep_id\tsub_dep_name\tORCID_iD\r",
      "\r\n"
     ]
    }
   ],
   "source": [
    "!head -n1 '{PATH}/DiVA-KTH-authors-2004-18.txt'"
   ]
  },
  {
   "cell_type": "code",
   "execution_count": 30,
   "metadata": {},
   "outputs": [],
   "source": [
    "col_KTH_author = [\"PID\",\"Doc_id\",\"Diva_author_id\",\"KTH_id\",\"Name\",\"Diva_school_id\",\"skola_namn\",\"Diva_dep_id\",\n",
    "             \"dep_name\",\"Diva_sub_dep_id\",\"sub_dep_name\",\"ORCID_iD\"]"
   ]
  },
  {
   "cell_type": "code",
   "execution_count": 31,
   "metadata": {},
   "outputs": [],
   "source": [
    "KTH_author = pd.read_csv(filepath_or_buffer=f\"{PATH}/DiVA-KTH-authors-2004-18.txt\",names=col_KTH_author, delimiter=\"\\t\",skiprows=1)"
   ]
  },
  {
   "cell_type": "code",
   "execution_count": 32,
   "metadata": {},
   "outputs": [
    {
     "data": {
      "text/html": [
       "<div>\n",
       "<style scoped>\n",
       "    .dataframe tbody tr th:only-of-type {\n",
       "        vertical-align: middle;\n",
       "    }\n",
       "\n",
       "    .dataframe tbody tr th {\n",
       "        vertical-align: top;\n",
       "    }\n",
       "\n",
       "    .dataframe thead th {\n",
       "        text-align: right;\n",
       "    }\n",
       "</style>\n",
       "<table border=\"1\" class=\"dataframe\">\n",
       "  <thead>\n",
       "    <tr style=\"text-align: right;\">\n",
       "      <th></th>\n",
       "      <th>PID</th>\n",
       "      <th>Doc_id</th>\n",
       "      <th>Diva_author_id</th>\n",
       "      <th>KTH_id</th>\n",
       "      <th>Name</th>\n",
       "      <th>Diva_school_id</th>\n",
       "      <th>skola_namn</th>\n",
       "      <th>Diva_dep_id</th>\n",
       "      <th>dep_name</th>\n",
       "      <th>Diva_sub_dep_id</th>\n",
       "      <th>sub_dep_name</th>\n",
       "      <th>ORCID_iD</th>\n",
       "    </tr>\n",
       "  </thead>\n",
       "  <tbody>\n",
       "    <tr>\n",
       "      <th>0</th>\n",
       "      <td>1001739</td>\n",
       "      <td>70857041</td>\n",
       "      <td>1517467</td>\n",
       "      <td>u1i16que</td>\n",
       "      <td>Bodén, Hans</td>\n",
       "      <td>6091</td>\n",
       "      <td>Skolan för teknikvetenskap (SCI)</td>\n",
       "      <td>6092.0</td>\n",
       "      <td>Farkost och flyg</td>\n",
       "      <td>6102.0</td>\n",
       "      <td>MWL Marcus Wallenberg Laboratoriet</td>\n",
       "      <td>0000-0002-8474-8563</td>\n",
       "    </tr>\n",
       "    <tr>\n",
       "      <th>1</th>\n",
       "      <td>1002469</td>\n",
       "      <td>70859145</td>\n",
       "      <td>1517486</td>\n",
       "      <td>u15y67rb</td>\n",
       "      <td>Lee, Sunjae</td>\n",
       "      <td>879224</td>\n",
       "      <td>Skolan för kemi, bioteknologi och hälsa (CBH)</td>\n",
       "      <td>879309.0</td>\n",
       "      <td>Proteinvetenskap</td>\n",
       "      <td>0.0</td>\n",
       "      <td>NaN</td>\n",
       "      <td>0000-0002-6428-5936</td>\n",
       "    </tr>\n",
       "    <tr>\n",
       "      <th>2</th>\n",
       "      <td>1002469</td>\n",
       "      <td>70859145</td>\n",
       "      <td>1517487</td>\n",
       "      <td>u1t8kmr6</td>\n",
       "      <td>Mardinoglu, Adil</td>\n",
       "      <td>879224</td>\n",
       "      <td>Skolan för kemi, bioteknologi och hälsa (CBH)</td>\n",
       "      <td>879309.0</td>\n",
       "      <td>Proteinvetenskap</td>\n",
       "      <td>0.0</td>\n",
       "      <td>NaN</td>\n",
       "      <td>NaN</td>\n",
       "    </tr>\n",
       "  </tbody>\n",
       "</table>\n",
       "</div>"
      ],
      "text/plain": [
       "       PID    Doc_id  Diva_author_id    KTH_id              Name  \\\n",
       "0  1001739  70857041         1517467  u1i16que       Bodén, Hans   \n",
       "1  1002469  70859145         1517486  u15y67rb       Lee, Sunjae   \n",
       "2  1002469  70859145         1517487  u1t8kmr6  Mardinoglu, Adil   \n",
       "\n",
       "   Diva_school_id                                     skola_namn  Diva_dep_id  \\\n",
       "0            6091               Skolan för teknikvetenskap (SCI)       6092.0   \n",
       "1          879224  Skolan för kemi, bioteknologi och hälsa (CBH)     879309.0   \n",
       "2          879224  Skolan för kemi, bioteknologi och hälsa (CBH)     879309.0   \n",
       "\n",
       "           dep_name  Diva_sub_dep_id                        sub_dep_name  \\\n",
       "0  Farkost och flyg           6102.0  MWL Marcus Wallenberg Laboratoriet   \n",
       "1  Proteinvetenskap              0.0                                 NaN   \n",
       "2  Proteinvetenskap              0.0                                 NaN   \n",
       "\n",
       "              ORCID_iD  \n",
       "0  0000-0002-8474-8563  \n",
       "1  0000-0002-6428-5936  \n",
       "2                  NaN  "
      ]
     },
     "execution_count": 32,
     "metadata": {},
     "output_type": "execute_result"
    }
   ],
   "source": [
    "KTH_author.head(3)"
   ]
  },
  {
   "cell_type": "markdown",
   "metadata": {},
   "source": [
    "# Data discovery"
   ]
  },
  {
   "cell_type": "code",
   "execution_count": 33,
   "metadata": {},
   "outputs": [],
   "source": [
    "data_files = [diva_records,keywords,keywords_plus,abstract,all_author,KTH_author]\n",
    "data_file_names = [\"diva_records\",\"keywords\",\"keywords_plus\",\"abstract\",\"all_author\",\"KTH_author\"]"
   ]
  },
  {
   "cell_type": "code",
   "execution_count": 35,
   "metadata": {
    "scrolled": false
   },
   "outputs": [
    {
     "name": "stdout",
     "output_type": "stream",
     "text": [
      "\n",
      " \n",
      " #######    diva_records   #######\n",
      "<class 'pandas.core.frame.DataFrame'>\n",
      "RangeIndex: 39311 entries, 0 to 39310\n",
      "Data columns (total 27 columns):\n",
      "PID                   39311 non-null int64\n",
      "DOI                   34986 non-null object\n",
      "ISI                   34625 non-null object\n",
      "Doc_id                39311 non-null object\n",
      "PMID                  2752 non-null object\n",
      "ScopusId              32147 non-null object\n",
      "Title                 39311 non-null object\n",
      "Doc_Year              39311 non-null int64\n",
      "PublicationType       39311 non-null object\n",
      "ContentType           39311 non-null object\n",
      "pt_new                39311 non-null object\n",
      "pt_ordning            39311 non-null int64\n",
      "Doc_Language          39311 non-null object\n",
      "Journal               39242 non-null object\n",
      "JournalISSN           38849 non-null object\n",
      "Publisher             12996 non-null object\n",
      "Series                0 non-null float64\n",
      "SeriesISSN            0 non-null float64\n",
      "ISBN                  84 non-null object\n",
      "Keywords              29250 non-null object\n",
      "Categories            36006 non-null object\n",
      "ResearchSubjects      2006 non-null object\n",
      "Projects              488 non-null object\n",
      "Abstract              36281 non-null object\n",
      "PublicationSubtype    1047 non-null object\n",
      "Conference            1273 non-null object\n",
      "biblio_uppg           39311 non-null object\n",
      "dtypes: float64(2), int64(3), object(22)\n",
      "memory usage: 8.1+ MB\n",
      "None\n",
      "\n",
      " \n",
      " #######    keywords   #######\n",
      "<class 'pandas.core.frame.DataFrame'>\n",
      "RangeIndex: 100930 entries, 0 to 100929\n",
      "Data columns (total 3 columns):\n",
      "Doc_id          100930 non-null int64\n",
      "Auth_keyw_id    100930 non-null int64\n",
      "Keyword         100930 non-null object\n",
      "dtypes: int64(2), object(1)\n",
      "memory usage: 2.3+ MB\n",
      "None\n",
      "\n",
      " \n",
      " #######    keywords_plus   #######\n",
      "<class 'pandas.core.frame.DataFrame'>\n",
      "RangeIndex: 197143 entries, 0 to 197142\n",
      "Data columns (total 3 columns):\n",
      "Doc_id     197143 non-null int64\n",
      "KWP_id     197143 non-null int64\n",
      "Keyword    197134 non-null object\n",
      "dtypes: int64(2), object(1)\n",
      "memory usage: 4.5+ MB\n",
      "None\n",
      "\n",
      " \n",
      " #######    abstract   #######\n",
      "<class 'pandas.core.frame.DataFrame'>\n",
      "RangeIndex: 38086 entries, 0 to 38085\n",
      "Data columns (total 3 columns):\n",
      "Doc_id         38086 non-null int64\n",
      "Abstract_id    38086 non-null int64\n",
      "Text           38086 non-null object\n",
      "dtypes: int64(2), object(1)\n",
      "memory usage: 892.7+ KB\n",
      "None\n",
      "\n",
      " \n",
      " #######    all_author   #######\n",
      "<class 'pandas.core.frame.DataFrame'>\n",
      "RangeIndex: 218111 entries, 0 to 218110\n",
      "Data columns (total 12 columns):\n",
      "PID                218111 non-null int64\n",
      "Diva_author_id     218111 non-null int64\n",
      "Name               218110 non-null object\n",
      "KTH_id             78475 non-null object\n",
      "ORCID_iD           35087 non-null object\n",
      "Diva_school_id     54730 non-null float64\n",
      "skola_namn         49412 non-null object\n",
      "Diva_dep_id        49412 non-null float64\n",
      "dep_name           49412 non-null object\n",
      "Diva_sub_dep_id    49412 non-null float64\n",
      "sub_dep_name       28755 non-null object\n",
      "Doc_id             218111 non-null object\n",
      "dtypes: float64(3), int64(2), object(7)\n",
      "memory usage: 20.0+ MB\n",
      "None\n",
      "\n",
      " \n",
      " #######    KTH_author   #######\n",
      "<class 'pandas.core.frame.DataFrame'>\n",
      "RangeIndex: 54730 entries, 0 to 54729\n",
      "Data columns (total 12 columns):\n",
      "PID                54730 non-null int64\n",
      "Doc_id             54730 non-null object\n",
      "Diva_author_id     54730 non-null int64\n",
      "KTH_id             54635 non-null object\n",
      "Name               54730 non-null object\n",
      "Diva_school_id     54730 non-null int64\n",
      "skola_namn         49412 non-null object\n",
      "Diva_dep_id        49412 non-null float64\n",
      "dep_name           49412 non-null object\n",
      "Diva_sub_dep_id    49412 non-null float64\n",
      "sub_dep_name       28755 non-null object\n",
      "ORCID_iD           25796 non-null object\n",
      "dtypes: float64(2), int64(3), object(7)\n",
      "memory usage: 5.0+ MB\n",
      "None\n"
     ]
    }
   ],
   "source": [
    "for df, name in zip(data_files,data_file_names):\n",
    "    print(\"\\n \\n #######   \",name,\"  #######\")\n",
    "    print(df.info())"
   ]
  },
  {
   "cell_type": "code",
   "execution_count": 37,
   "metadata": {},
   "outputs": [],
   "source": [
    "def end_correctly(text):\n",
    "    if text[-1] ==\".\" or text[-1] == \" \":\n",
    "        return text\n",
    "    else:\n",
    "        new_text = end_correctly(text[:-1])\n",
    "    return new_text\n",
    "        "
   ]
  },
  {
   "cell_type": "markdown",
   "metadata": {},
   "source": [
    "There's alot of ROWS with no Doc_id i.e., \".\". Remove those"
   ]
  },
  {
   "cell_type": "code",
   "execution_count": 38,
   "metadata": {},
   "outputs": [
    {
     "data": {
      "text/plain": [
       "(39311, 27)"
      ]
     },
     "execution_count": 38,
     "metadata": {},
     "output_type": "execute_result"
    }
   ],
   "source": [
    "diva_records.shape"
   ]
  },
  {
   "cell_type": "code",
   "execution_count": 39,
   "metadata": {},
   "outputs": [
    {
     "data": {
      "text/plain": [
       "(5178, 27)"
      ]
     },
     "execution_count": 39,
     "metadata": {},
     "output_type": "execute_result"
    }
   ],
   "source": [
    "diva_records[diva_records.Doc_id.values ==\".\"].shape"
   ]
  },
  {
   "cell_type": "code",
   "execution_count": 41,
   "metadata": {},
   "outputs": [
    {
     "data": {
      "text/plain": [
       "(54730,)"
      ]
     },
     "execution_count": 41,
     "metadata": {},
     "output_type": "execute_result"
    }
   ],
   "source": [
    "KTH_author.PID.shape"
   ]
  },
  {
   "cell_type": "code",
   "execution_count": 42,
   "metadata": {},
   "outputs": [
    {
     "data": {
      "text/plain": [
       "(25549,)"
      ]
     },
     "execution_count": 42,
     "metadata": {},
     "output_type": "execute_result"
    }
   ],
   "source": [
    "KTH_author.PID.unique().shape"
   ]
  },
  {
   "cell_type": "markdown",
   "metadata": {},
   "source": [
    "Give documents that miss document id an unique id."
   ]
  },
  {
   "cell_type": "code",
   "execution_count": 46,
   "metadata": {},
   "outputs": [],
   "source": [
    "for i, p in enumerate(KTH_author[KTH_author.Doc_id.values == \".\"].PID.unique()):\n",
    "    KTH_author.loc[KTH_author.PID.values == p, \"Doc_id\"] = i\n",
    "    diva_records.loc[diva_records.PID.values ==p, \"Doc_id\"] = i\n",
    "    "
   ]
  },
  {
   "cell_type": "markdown",
   "metadata": {},
   "source": [
    "# Drop . remaining in diva_records since we don't have these pids in the KTH df. "
   ]
  },
  {
   "cell_type": "code",
   "execution_count": 48,
   "metadata": {},
   "outputs": [],
   "source": [
    "diva_records = diva_records[diva_records.Doc_id.values != \".\"].reset_index(drop=True)"
   ]
  },
  {
   "cell_type": "markdown",
   "metadata": {},
   "source": [
    "# Drop nan-abstratcs"
   ]
  },
  {
   "cell_type": "code",
   "execution_count": 53,
   "metadata": {},
   "outputs": [],
   "source": [
    "diva_records = diva_records[pd.notnull(diva_records['Abstract'])].reset_index(drop=True)"
   ]
  },
  {
   "cell_type": "code",
   "execution_count": 55,
   "metadata": {},
   "outputs": [],
   "source": [
    "categories = list()\n",
    "for cat in diva_records.Categories.values:\n",
    "    if isinstance(cat,float):\n",
    "        categories.append(\"NaN\")\n",
    "    else:\n",
    "        categories.append(cat.split(\"(\")[0][:-1])"
   ]
  },
  {
   "cell_type": "code",
   "execution_count": 56,
   "metadata": {},
   "outputs": [],
   "source": [
    "abst_list = list()\n",
    "cat = list()\n",
    "words = list()\n",
    "doc_id = diva_records.Doc_id.unique()\n",
    "doc_id_list = list()\n",
    "for d_id in doc_id:\n",
    "    row = diva_records[diva_records.Doc_id == d_id]\n",
    "    abst = row.Abstract.values[0]\n",
    "    abst_list.append(end_correctly(abst[3:-3]))\n",
    "    doc_id_list.append(d_id)\n",
    "       "
   ]
  },
  {
   "cell_type": "code",
   "execution_count": 57,
   "metadata": {},
   "outputs": [],
   "source": [
    "df = pd.DataFrame({\"Abstracts\":abst_list, \"Doc_id\": doc_id_list})\n"
   ]
  },
  {
   "cell_type": "markdown",
   "metadata": {},
   "source": [
    "# Create new ID's for KTH author that miss ID."
   ]
  },
  {
   "cell_type": "code",
   "execution_count": 58,
   "metadata": {},
   "outputs": [],
   "source": [
    "nan_authors_df = KTH_author[KTH_author.KTH_id.isna()]"
   ]
  },
  {
   "cell_type": "code",
   "execution_count": 59,
   "metadata": {},
   "outputs": [],
   "source": [
    "nan_id_dict = dict()\n",
    "for diva_id in nan_authors_df.Diva_author_id.unique():\n",
    "    if nan_authors_df[nan_authors_df.Diva_author_id == diva_id].Name.values.shape[0] ==  1:\n",
    "        name = nan_authors_df[nan_authors_df.Diva_author_id == diva_id].Name.values[0]\n",
    "        nan_id_dict[str(diva_id)] = \"ux\" + str(diva_id)"
   ]
  },
  {
   "cell_type": "code",
   "execution_count": 60,
   "metadata": {},
   "outputs": [],
   "source": [
    "for diva_id in nan_authors_df.Diva_author_id.unique():\n",
    "    KTH_author.loc[KTH_author.Diva_author_id == diva_id, \"KTH_id\"] = nan_id_dict[str(diva_id)]\n",
    "\n",
    "    "
   ]
  },
  {
   "cell_type": "code",
   "execution_count": 63,
   "metadata": {},
   "outputs": [],
   "source": [
    "not_contain_u_user = KTH_author[np.invert(KTH_author.KTH_id.str.contains(\"u\"))]"
   ]
  },
  {
   "cell_type": "code",
   "execution_count": 64,
   "metadata": {},
   "outputs": [],
   "source": [
    "non_u_dict = dict()\n",
    "for diva_id in not_contain_u_user.Diva_author_id.unique():\n",
    "    name = not_contain_u_user[not_contain_u_user.Diva_author_id == diva_id].Name.values[0]\n",
    "    non_u_dict[str(diva_id)] = \"ux\" + str(diva_id)\n",
    "    "
   ]
  },
  {
   "cell_type": "code",
   "execution_count": 65,
   "metadata": {},
   "outputs": [],
   "source": [
    "for diva_id in not_contain_u_user.Diva_author_id.unique():\n",
    "    KTH_author.loc[KTH_author.Diva_author_id == diva_id, \"KTH_id\"] = non_u_dict[str(diva_id)]"
   ]
  },
  {
   "cell_type": "code",
   "execution_count": 66,
   "metadata": {},
   "outputs": [],
   "source": [
    "kth_pids = KTH_author.Doc_id"
   ]
  },
  {
   "cell_type": "code",
   "execution_count": 69,
   "metadata": {},
   "outputs": [],
   "source": [
    "#unique_kth_id = KTH_author.KTH_id.unique()\n",
    "unique_kth_id = KTH_author.KTH_id.unique()"
   ]
  },
  {
   "cell_type": "markdown",
   "metadata": {},
   "source": [
    "Find authors that are have non-Ascii letters in their name."
   ]
  },
  {
   "cell_type": "code",
   "execution_count": 70,
   "metadata": {},
   "outputs": [
    {
     "name": "stdout",
     "output_type": "stream",
     "text": [
      "WARNING author non ASCII ['Mårtensson, Gustaf']\n",
      "WARNING author non ASCII ['Efsing, Pål']\n",
      "WARNING author non ASCII ['Ström, Valter']\n",
      "WARNING author non ASCII ['Behm, Mårten']\n",
      "WARNING author non ASCII ['Ström, Petter']\n",
      "WARNING author non ASCII ['Erlandsson, Björn-Erik']\n",
      "WARNING author non ASCII ['Marklund, Göran T.' 'Marklund, Göran' 'Marklund, Göran T']\n",
      "WARNING author non ASCII ['Håkansson, Cecilia']\n",
      "WARNING author non ASCII ['Bayraktar, Ömer']\n",
      "WARNING author non ASCII ['Jacksén, Johan']\n",
      "WARNING author non ASCII ['Emmer, Åsa']\n",
      "WARNING author non ASCII ['Söder, Lennart' 'Söder, Lennart H.']\n",
      "WARNING author non ASCII ['Dinér, Peter']\n",
      "WARNING author non ASCII ['Olsson, Mårten']\n",
      "WARNING author non ASCII ['Wahlström, Jens']\n",
      "WARNING author non ASCII ['Löfdahl, Björn']\n",
      "WARNING author non ASCII ['Fridström, Richard']\n",
      "WARNING author non ASCII ['Bälter, Olle' 'Bälter, Olof']\n",
      "WARNING author non ASCII ['Stjernström, Mårten']\n",
      "WARNING author non ASCII ['Söderberg, Daniel' 'Söderberg, L. Daniel']\n",
      "WARNING author non ASCII ['Malmström, Eva' 'Malmström, Eva E.' 'Malmström Jonsson, Eva'\n",
      " 'Malmström Jonsson, Eva E.']\n",
      "WARNING author non ASCII ['Bülow, William']\n",
      "WARNING author non ASCII ['Schröder, Stephan']\n",
      "WARNING author non ASCII ['Svärd, Michael']\n",
      "WARNING author non ASCII ['Månsson, Martin']\n",
      "WARNING author non ASCII ['Brändén, Petter' 'Bränden, Petter']\n",
      "WARNING author non ASCII ['Åbom, Mats']\n",
      "WARNING author non ASCII ['Mårtensson, Mattias' 'Mattias, Mårtensson']\n",
      "WARNING author non ASCII ['Smedby, Örjan']\n",
      "WARNING author non ASCII ['Bjurström, Henrik']\n",
      "WARNING author non ASCII ['Hörnström, David']\n",
      "WARNING author non ASCII ['Holzapfel, André']\n",
      "WARNING author non ASCII ['Sjölin, Martin']\n",
      "WARNING author non ASCII ['Edström, Kristina']\n",
      "WARNING author non ASCII ['Nygård, Alexander']\n",
      "WARNING author non ASCII ['Grönkvist, Mikael']\n",
      "WARNING author non ASCII ['Sörlin, Sverker']\n",
      "WARNING author non ASCII ['Lundström, Robert']\n",
      "WARNING author non ASCII ['Engdahl, Göran']\n",
      "WARNING author non ASCII ['Sörqvist, Lars']\n",
      "WARNING author non ASCII ['Kårelid, Victor']\n",
      "WARNING author non ASCII ['Björlenius, Berndt']\n",
      "WARNING author non ASCII ['Sædén Ståhl, Gustav']\n",
      "WARNING author non ASCII ['Järås, Sven' 'Järås, Sven G.' 'Ja`ˆra`Šs, Sven']\n",
      "WARNING author non ASCII ['Näsman, Per' 'Näsman, Per N.' 'Näsman, P']\n",
      "WARNING author non ASCII ['Orvnäs, Anneli']\n",
      "WARNING author non ASCII ['Örlü, Ramis' 'Örlu, Ramis' 'Ramis, Örlü']\n",
      "WARNING author non ASCII ['Brännvall, Elisabet' 'Brännvall, Elisabeth']\n",
      "WARNING author non ASCII ['Hjalmarsson, Håkan']\n",
      "WARNING author non ASCII ['Gürdür, Didem']\n",
      "WARNING author non ASCII ['Strååt, Klas']\n",
      "WARNING author non ASCII ['Castro Flores, José Fiacro']\n",
      "WARNING author non ASCII ['Jönsson, Håkan' 'Jönsson, Håkan N.' 'Jönsson, Håkan  N.']\n",
      "WARNING author non ASCII ['Wålinder, Magnus' 'Wålinder, Magnus E. P.' 'Wålinder, Magnus E.P.'\n",
      " 'Wålinder, Magnus. E. P.' 'Wålinder, E.P. Magnus']\n",
      "WARNING author non ASCII ['Fauré, Eléonore' 'Fauré, Eleonore']\n",
      "WARNING author non ASCII ['Svenfelt, Åsa']\n",
      "WARNING author non ASCII ['Finnveden, Göran']\n",
      "WARNING author non ASCII ['Lagerström, Robert']\n",
      "WARNING author non ASCII ['Sjölander, Jens']\n",
      "WARNING author non ASCII ['Fölster, Stefan']\n",
      "WARNING author non ASCII ['Käll, Lukas']\n",
      "WARNING author non ASCII ['Göransson, Peter']\n",
      "WARNING author non ASCII ['Stefániková, Estera']\n",
      "WARNING author non ASCII ['Lindbergh, Göran' 'Lindbergh, N. Göran' 'Lindbergh, N Göran']\n",
      "WARNING author non ASCII ['Risén, Emma']\n",
      "WARNING author non ASCII ['Malmström, Maria E.' 'Malmström, Maria']\n",
      "WARNING author non ASCII ['Gröndahl, Fredrik']\n",
      "WARNING author non ASCII ['Skubic, Björn']\n",
      "WARNING author non ASCII ['Ottersten, Björn' 'Ottersten, Björn E.']\n",
      "WARNING author non ASCII ['Håkansson, Ulf']\n",
      "WARNING author non ASCII ['Gosselin, GaÁ«lle']\n",
      "WARNING author non ASCII ['Berggren, Björn']\n",
      "WARNING author non ASCII ['RodrÁ\\xadguez Leonard, Francisca']\n",
      "WARNING author non ASCII ['Niinimäki, Kati']\n",
      "WARNING author non ASCII ['Östlund, Victor']\n",
      "WARNING author non ASCII ['Pontén, Fredrik']\n",
      "WARNING author non ASCII ['Persson, Björn V.']\n",
      "WARNING author non ASCII ['Walldius, Åke']\n",
      "WARNING author non ASCII ['Thorén, Per-Anders' 'Thorén, Per Anders']\n",
      "WARNING author non ASCII ['Sandström, Ulf' 'Sandström, Rolf']\n",
      "WARNING author non ASCII ['Bäckstrom, Ann' 'Bäckström, Ann']\n",
      "WARNING author non ASCII ['Björklund, Anna']\n",
      "WARNING author non ASCII ['Mörtberg, Ulla']\n",
      "WARNING author non ASCII ['Töpfer, Fritzi']\n",
      "WARNING author non ASCII ['Nilsson, Måns']\n",
      "WARNING author non ASCII [\"O'Reilly, Ciarán J.\" \"O'Reilly, Ciarán\"]\n",
      "WARNING author non ASCII ['Häggmark-Mänberg, Anna']\n",
      "WARNING author non ASCII ['Dán, György' 'Dan, György' 'DánDán, György']\n",
      "WARNING author non ASCII ['Johansson, Börje']\n",
      "WARNING author non ASCII ['Öberg, Sebastian']\n",
      "WARNING author non ASCII ['Engelsöy, Julius']\n",
      "WARNING author non ASCII ['Höjer, Mattias']\n",
      "WARNING author non ASCII ['Gunnarsson-Östling, Ulrika' 'Gunnarsson Östling, Ulrika']\n",
      "WARNING author non ASCII ['Tarandi, Väino']\n",
      "WARNING author non ASCII ['Hallström, Björn M.' 'Hallström, Björn Mikael' 'M Hallström, Björn'\n",
      " 'Hallström, Björn' 'Hallström, Björn M' 'Hallström, Bjorn M.']\n",
      "WARNING author non ASCII ['Österlind, Tomas']\n",
      "WARNING author non ASCII ['Lööf, Hans']\n",
      "WARNING author non ASCII ['Lundgren, Björn']\n",
      "WARNING author non ASCII ['Möller, Niklas']\n",
      "WARNING author non ASCII ['Andreasson, Jörgen']\n",
      "WARNING author non ASCII ['Rönn, Magnus']\n",
      "WARNING author non ASCII ['Laumert, Björn']\n",
      "WARNING author non ASCII ['Robért, Markus' 'Robèrt, Markus']\n",
      "WARNING author non ASCII ['Strömgren, Marcus']\n",
      "WARNING author non ASCII ['Österlöf, Rickard']\n",
      "WARNING author non ASCII ['Åstrand, Carolina']\n",
      "WARNING author non ASCII ['Åhman, Henrik']\n",
      "WARNING author non ASCII ['Reuterswärd, Philippa']\n",
      "WARNING author non ASCII ['Träger, Andrea']\n",
      "WARNING author non ASCII ['Nyström, Kristina']\n",
      "WARNING author non ASCII ['Hårsman, Björn']\n",
      "WARNING author non ASCII ['Remnestål, Julia']\n",
      "WARNING author non ASCII ['Svärd, Antonia']\n",
      "WARNING author non ASCII ['Pérez-Berumen, Catalina Maria']\n",
      "WARNING author non ASCII ['Hellström, Cecilia']\n",
      "WARNING author non ASCII ['Vågberg, William' 'Twengström, William']\n",
      "WARNING author non ASCII ['Wahlström, Marie']\n",
      "WARNING author non ASCII ['Eklund, Jörgen' 'Eklund, Jörgen A. E.' 'Eklund, Jögen']\n",
      "WARNING author non ASCII ['Johansson, Börje']\n",
      "WARNING author non ASCII ['RodrÁ\\xadguez-Déniz, Héctor' 'RodrÁ\\xadguez-Déniz, Hector']\n",
      "WARNING author non ASCII ['Gärdebo, Johan']\n",
      "WARNING author non ASCII ['Jörnesten, Anders']\n",
      "WARNING author non ASCII ['Illergård, Josefin']\n",
      "WARNING author non ASCII ['Koop, Björn C.' 'Koop, Björn']\n",
      "WARNING author non ASCII ['Östlund, Britt']\n",
      "WARNING author non ASCII ['Hellsten, Torbjörn' 'Hellsten, Torbjörn A. K.']\n",
      "WARNING author non ASCII ['Edvardsson Björnberg, Karin' 'Björnberg, Karin Edvardsson'\n",
      " 'Edvardsson Björnberg, Edvardsson']\n",
      "WARNING author non ASCII ['Sivertsson, Åsa']\n",
      "WARNING author non ASCII ['Lidström, Susanna']\n",
      "WARNING author non ASCII ['Enström, Emma']\n",
      "WARNING author non ASCII ['Güler, Rezan']\n",
      "WARNING author non ASCII ['Lindgren, Björn']\n",
      "WARNING author non ASCII ['Håstad, Johan']\n",
      "WARNING author non ASCII ['Bergström, Jonas']\n",
      "WARNING author non ASCII ['Lundström, Linda']\n",
      "WARNING author non ASCII ['Gil Gómez, Gaspar']\n",
      "WARNING author non ASCII ['Moberg, Åsa' 'Moberg, Å…sa']\n",
      "WARNING author non ASCII ['Strömqvist, Gustav']\n",
      "WARNING author non ASCII ['Borgström, Sara']\n",
      "WARNING author non ASCII ['Pérez-Megino, L. P.']\n",
      "WARNING author non ASCII ['Jönsson, Fredrik']\n",
      "WARNING author non ASCII ['Boåsen, Magnus']\n",
      "WARNING author non ASCII ['Strömberg, Emma' 'Strömberg, E.']\n",
      "WARNING author non ASCII ['Ekeberg, Örjan']\n",
      "WARNING author non ASCII ['Ögren, Petter' 'Petter, Ögren']\n",
      "WARNING author non ASCII ['Grimvall, Göran']\n",
      "WARNING author non ASCII ['Markström, Ingemar']\n",
      "WARNING author non ASCII ['Mota-Babiloni, Adrián']\n",
      "WARNING author non ASCII ['Lindström, Rakel' 'Wreland Lindström, Rakel' 'Lindström, Rakel Wreland']\n",
      "WARNING author non ASCII ['Östlund, Stefan']\n",
      "WARNING author non ASCII ['Sandersjöö, Lisa']\n",
      "WARNING author non ASCII ['Bäckström, Anna']\n",
      "WARNING author non ASCII ['Törne, Karin' 'Beaussant Törne, Karin Beaussant']\n",
      "WARNING author non ASCII ['Önskog, Thomas']\n",
      "WARNING author non ASCII ['Köll, Joonas']\n",
      "WARNING author non ASCII ['Hallström, Stefan']\n",
      "WARNING author non ASCII ['Reimegård, Johan']\n",
      "WARNING author non ASCII ['Åkerman, Jonas']\n",
      "WARNING author non ASCII ['Brodén, Daniel']\n",
      "WARNING author non ASCII ['Nordström, Lars']\n",
      "WARNING author non ASCII ['Lönnqvist, Tomas']\n",
      "WARNING author non ASCII ['Grönkvist, Stefan']\n",
      "WARNING author non ASCII ['Wåhlander, Martin']\n",
      "WARNING author non ASCII ['Lindström, Kati']\n",
      "WARNING author non ASCII ['Borgström, Erik']\n",
      "WARNING author non ASCII ['Höhler, Sabine']\n",
      "WARNING author non ASCII ['Högselius, Per']\n",
      "WARNING author non ASCII ['Prästings, Anders']\n",
      "WARNING author non ASCII ['Gómez, Francisco José']\n",
      "WARNING author non ASCII ['Åkesson, Anna']\n",
      "WARNING author non ASCII ['Georén, Peter']\n",
      "WARNING author non ASCII ['Sörensson, Tomas']\n",
      "WARNING author non ASCII ['Sjölander, Andreas']\n"
     ]
    },
    {
     "name": "stdout",
     "output_type": "stream",
     "text": [
      "WARNING author non ASCII ['Lindén, Henrik']\n",
      "WARNING author non ASCII ['Söderlind, Johan']\n",
      "WARNING author non ASCII ['Rådeström, Sarah']\n",
      "WARNING author non ASCII ['Engström, Susanne']\n",
      "WARNING author non ASCII ['Karlson, Mårten']\n",
      "WARNING author non ASCII ['Råsander, Mikael']\n",
      "WARNING author non ASCII ['Näfver, Jonas Jarlmark']\n",
      "WARNING author non ASCII ['Bäck, Torbjörn']\n",
      "WARNING author non ASCII ['Sköld, Per']\n",
      "WARNING author non ASCII ['Örnek, Cem']\n",
      "WARNING author non ASCII ['Håkansson, Karl M. O.' 'Håkansson, Karl']\n",
      "WARNING author non ASCII ['Rosén, Christer']\n",
      "WARNING author non ASCII ['Åkesson, L.']\n",
      "WARNING author non ASCII ['Björk, L.']\n",
      "WARNING author non ASCII ['Engström, Joakim']\n",
      "WARNING author non ASCII ['ZappalÁ\\xa0, Stefano']\n",
      "WARNING author non ASCII ['Nilebäck, Linnea']\n",
      "WARNING author non ASCII ['Andrén, Oliver C. J.' 'Andrén, Oliver' 'Andrén, Olver C. J.']\n",
      "WARNING author non ASCII ['Öktem, Ozan' 'Ozan, Öktem']\n",
      "WARNING author non ASCII ['Persson, Björn']\n",
      "WARNING author non ASCII ['Wirén, Jens']\n",
      "WARNING author non ASCII ['Bäckström, Eva' 'Backström, Eva']\n",
      "WARNING author non ASCII ['Jöns, Klaus D.' 'Jöns, Klaus']\n",
      "WARNING author non ASCII ['Miró, Jorge']\n",
      "WARNING author non ASCII ['Engström, R. E.' 'Engström, Rebecka' 'Segerström, Rebecka Ericsdotter'\n",
      " 'Segerström, Rebecka']\n",
      "WARNING author non ASCII ['Logue, Jürg Brendan']\n",
      "WARNING author non ASCII ['Kölegård, Roger' 'Kölegard, Roger']\n",
      "WARNING author non ASCII ['Björk, Folke']\n",
      "WARNING author non ASCII ['Blomkvist, Pär']\n",
      "WARNING author non ASCII ['Olsen, Börge']\n",
      "WARNING author non ASCII ['Hedenmalm, Håkan']\n",
      "WARNING author non ASCII ['Walbrühl, Martin']\n",
      "WARNING author non ASCII ['Mårtensson, Daniel']\n",
      "WARNING author non ASCII ['Hagström, Peter']\n",
      "WARNING author non ASCII ['Långberg, Marie']\n",
      "WARNING author non ASCII ['Söderberg, Anders']\n",
      "WARNING author non ASCII ['Köhler, Daniel']\n",
      "WARNING author non ASCII ['Byström, Sanna']\n",
      "WARNING author non ASCII ['Pál, Tamás']\n",
      "WARNING author non ASCII ['Öberg, Johnny']\n",
      "WARNING author non ASCII ['Hugosson, Håkan W.' 'Hugosson, Håkan Wilhelm' 'Hugosson, Håkan']\n",
      "WARNING author non ASCII ['GarcÁ\\xada Lozano, Marianela']\n",
      "WARNING author non ASCII ['Lönn, Gustaf']\n",
      "WARNING author non ASCII ['Björkman, Gunnar']\n",
      "WARNING author non ASCII ['Ståhle, Alexander']\n",
      "WARNING author non ASCII ['Klement, Göran']\n",
      "WARNING author non ASCII ['Ekström, Mattias']\n",
      "WARNING author non ASCII ['Broström, Anders']\n",
      "WARNING author non ASCII ['Müller, Marion C.']\n",
      "WARNING author non ASCII ['Söderberg, Lovisa M.']\n",
      "WARNING author non ASCII ['Sjölin, Per']\n",
      "WARNING author non ASCII ['Rothhämel, Malte']\n",
      "WARNING author non ASCII ['Önsten, Anneli']\n",
      "WARNING author non ASCII ['Ternström, Sten']\n",
      "WARNING author non ASCII ['Lögdberg, Sara']\n",
      "WARNING author non ASCII ['Strömsten, Torkel']\n",
      "WARNING author non ASCII ['Månsson, Daniel']\n",
      "WARNING author non ASCII ['Marçal, Mariana']\n",
      "WARNING author non ASCII ['Häll, Daniel']\n",
      "WARNING author non ASCII ['von Brömssen, Mattias' 'Von Brömssen, Mattias' 'von Brömssen, Martin']\n",
      "WARNING author non ASCII ['Brännström, Sara']\n",
      "WARNING author non ASCII ['Sjöstrand, Joel']\n",
      "WARNING author non ASCII ['Salmén, Fredrik']\n",
      "WARNING author non ASCII ['Hyvärinen, Ann']\n",
      "WARNING author non ASCII ['Castañeda Lozano, Roberto']\n",
      "WARNING author non ASCII ['Sjödin, Peter']\n",
      "WARNING author non ASCII ['Nordström, Erik']\n",
      "WARNING author non ASCII ['Böck, Michelle']\n",
      "WARNING author non ASCII ['Lingström, Rikard']\n",
      "WARNING author non ASCII ['Lundström, Lisa' 'Lundström-Hämälä, Lisa']\n",
      "WARNING author non ASCII ['Björsell, Niclas']\n",
      "WARNING author non ASCII ['Håkansson, Martin']\n",
      "WARNING author non ASCII ['Öhman, Henrik']\n",
      "WARNING author non ASCII ['Vikström, Hanna']\n",
      "WARNING author non ASCII ['Spühler, Jeannette Hiromi' 'Spühler, Jeannette H.']\n",
      "WARNING author non ASCII ['Malmström, Johan']\n",
      "WARNING author non ASCII ['Nåsell, Ingemar']\n",
      "WARNING author non ASCII ['Sandström, Niklas']\n",
      "WARNING author non ASCII ['Lingegård, Sofia']\n",
      "WARNING author non ASCII ['Ergül, Adem']\n",
      "WARNING author non ASCII ['Jess, David Unnersjö' 'Unnersjö-Jess, David']\n",
      "WARNING author non ASCII ['Eriksson, Björn']\n",
      "WARNING author non ASCII ['Nordenström, Malin']\n",
      "WARNING author non ASCII ['Björk, Jennie']\n",
      "WARNING author non ASCII ['Wahlström, Johan']\n",
      "WARNING author non ASCII ['Sjöberg, L. E.']\n",
      "WARNING author non ASCII ['Håkansson, Malin']\n",
      "WARNING author non ASCII ['Jürgensen, Jan Henning']\n",
      "WARNING author non ASCII ['Höglund, Lars']\n",
      "WARNING author non ASCII ['Söderberg, Jonas']\n",
      "WARNING author non ASCII ['Ekström, Henrik']\n",
      "WARNING author non ASCII ['Farré, Gerard']\n",
      "WARNING author non ASCII ['Svartström, Olov']\n",
      "WARNING author non ASCII ['Sjöqvist, Conny']\n",
      "WARNING author non ASCII ['Kördel, Mikael']\n",
      "WARNING author non ASCII ['Gidofalvi, Gyözö']\n",
      "WARNING author non ASCII ['Bergström, L. Magnus']\n",
      "WARNING author non ASCII ['Grönberg, Fredrik']\n",
      "WARNING author non ASCII ['Thorén, E.' 'Thorén, Emil']\n",
      "WARNING author non ASCII ['Törngren, Martin']\n",
      "WARNING author non ASCII ['Strömberg, Jan-Olov']\n",
      "WARNING author non ASCII ['Högström, Johan' 'Högström, J.']\n",
      "WARNING author non ASCII ['Sundström, Elias']\n",
      "WARNING author non ASCII ['Sörenson, Karl']\n",
      "WARNING author non ASCII ['Axnäs, Ingvar']\n",
      "WARNING author non ASCII ['Lüdtke, Maximilian']\n",
      "WARNING author non ASCII ['Höök, Kristina']\n",
      "WARNING author non ASCII ['Kiss, Mózsi' 'Kiss, Mózsi Bank']\n",
      "WARNING author non ASCII ['Nyrén, Pål']\n",
      "WARNING author non ASCII ['Schmidt, Björn']\n",
      "WARNING author non ASCII ['Ängskog, Per']\n",
      "WARNING author non ASCII ['Bäckström, Mats']\n",
      "WARNING author non ASCII ['Åkesson, Lovisa']\n",
      "WARNING author non ASCII ['Björk, Lars']\n",
      "WARNING author non ASCII ['Mattsson, Lars-Göran']\n",
      "WARNING author non ASCII ['Johannesson, Björn']\n",
      "WARNING author non ASCII ['Rolfö, Linda']\n",
      "WARNING author non ASCII ['Twengström, Mikael']\n",
      "WARNING author non ASCII ['Kürten, Charlotte']\n",
      "WARNING author non ASCII ['Kärrlander, Tom']\n",
      "WARNING author non ASCII ['Morén, Ida']\n",
      "WARNING author non ASCII ['Stenström, Patrik']\n",
      "WARNING author non ASCII ['Åkervik, Espen']\n",
      "WARNING author non ASCII ['Boström, Henrik' 'Boström, H.']\n",
      "WARNING author non ASCII ['Grünloh, Christiane']\n",
      "WARNING author non ASCII ['Nilsson, Håkan']\n",
      "WARNING author non ASCII ['Wahlström, Niklas']\n",
      "WARNING author non ASCII ['Björkholm, Eva']\n",
      "WARNING author non ASCII ['Norström, Per']\n",
      "WARNING author non ASCII ['Österberg, Ulf L.']\n",
      "WARNING author non ASCII ['Nyström, Daniel']\n",
      "WARNING author non ASCII ['Östmark, Emma']\n",
      "WARNING author non ASCII ['Reitberger, Torbjörn']\n",
      "WARNING author non ASCII ['Sjögrim, Rutger']\n",
      "WARNING author non ASCII ['Båberg, Fredrik']\n",
      "WARNING author non ASCII ['Råsander, Mikael']\n",
      "WARNING author non ASCII ['König, Carolin']\n",
      "WARNING author non ASCII ['Ahlgren, Björn']\n",
      "WARNING author non ASCII ['Åkerborg, Örjan']\n",
      "WARNING author non ASCII ['Hedin, Björn']\n",
      "WARNING author non ASCII ['Häggmark, Ilian']\n",
      "WARNING author non ASCII ['Salö, Linus']\n",
      "WARNING author non ASCII ['Andrén, Oliver']\n",
      "WARNING author non ASCII ['Källbom, Susanna']\n",
      "WARNING author non ASCII ['Johansson, Börje']\n",
      "WARNING author non ASCII ['Belin, Matts-Åke']\n",
      "WARNING author non ASCII ['Wersäll, Carl']\n",
      "WARNING author non ASCII ['Liwång, Hans']\n",
      "WARNING author non ASCII ['Winckler, Björn']\n",
      "WARNING author non ASCII ['Svidró, Péter']\n",
      "WARNING author non ASCII ['Jönsson, Göran']\n",
      "WARNING author non ASCII ['Nelson Landén, Simon' 'Landén, Simon Nelson']\n",
      "WARNING author non ASCII ['Holm, Bärbel']\n",
      "WARNING author non ASCII ['Sjöstrand, Jonas']\n",
      "WARNING author non ASCII ['Blomkvist, Björn']\n",
      "WARNING author non ASCII ['Åsén, Per-Olov']\n",
      "WARNING author non ASCII ['Waldenström, Paul']\n",
      "WARNING author non ASCII ['Mäkivierikko, Arman']\n",
      "WARNING author non ASCII ['Seppänen, Tiinamari']\n",
      "WARNING author non ASCII ['Neves, André']\n",
      "WARNING author non ASCII ['Sallnäs Pysander, Eva-Lotta' 'Sallnäs, Eva-Lotta'\n",
      " 'Sallnäs Pysander, Eva Lotta']\n",
      "WARNING author non ASCII ['Götberg, Olof']\n",
      "WARNING author non ASCII ['Monzó, Patricia' 'Monzó, Patrcia']\n",
      "WARNING author non ASCII ['Högfeldt, Anna-Karin']\n",
      "WARNING author non ASCII ['MartÁ\\xadn-Yerga, Daniel']\n",
      "WARNING author non ASCII ['RodrÁ\\xadguez Varela, R.']\n",
      "WARNING author non ASCII ['Löfdahl, Björn']\n",
      "WARNING author non ASCII ['Åsberg, Per']\n",
      "WARNING author non ASCII ['Gustafsson, Björn']\n",
      "WARNING author non ASCII ['Levamäki, Henrik']\n",
      "WARNING author non ASCII ['Klintström, Benjamin']\n",
      "WARNING author non ASCII ['Veganzones Muñoz, José Javier']\n",
      "WARNING author non ASCII ['Stenström, Patrik']\n",
      "WARNING author non ASCII ['Nordström, Marcus']\n",
      "WARNING author non ASCII ['Bölke, Kristofer']\n",
      "WARNING author non ASCII ['Bergström, Lennart']\n",
      "WARNING author non ASCII ['Kärkäs, Markus D.']\n",
      "WARNING author non ASCII ['Vågberg, William']\n",
      "WARNING author non ASCII ['Stille, Håkan']\n"
     ]
    },
    {
     "name": "stdout",
     "output_type": "stream",
     "text": [
      "WARNING author non ASCII ['Helgason, Pétur']\n",
      "WARNING author non ASCII ['Törnblom, Oskar']\n",
      "WARNING author non ASCII ['Västberg, Oskar Blom']\n",
      "WARNING author non ASCII ['Fransén, Erik']\n",
      "WARNING author non ASCII ['Häggström, Daniel']\n",
      "WARNING author non ASCII ['Björklund, Stefan']\n",
      "WARNING author non ASCII ['Vrána, TomáÅ¡']\n",
      "WARNING author non ASCII ['Sjöstedt, Evelina']\n",
      "WARNING author non ASCII ['Åkerman, Jonas']\n",
      "WARNING author non ASCII ['Håkansson, Anne']\n",
      "WARNING author non ASCII ['Björkqvist, Oskar']\n",
      "WARNING author non ASCII ['GarcÁ\\xada GarcÁ\\xada, Sandra']\n",
      "WARNING author non ASCII ['Käll, Lukas']\n",
      "WARNING author non ASCII ['Linderbäck, Klas']\n",
      "WARNING author non ASCII ['Andreasson, Jörgen']\n",
      "WARNING author non ASCII ['Källner, Emelie']\n",
      "WARNING author non ASCII ['Slätt, Johnny']\n",
      "WARNING author non ASCII ['Backlund, Hanéle']\n",
      "WARNING author non ASCII ['Mikael E., Lindström']\n",
      "WARNING author non ASCII ['Barragán-Beaud, Camila']\n",
      "WARNING author non ASCII ['Salmén, F.']\n",
      "WARNING author non ASCII ['Modén, Carl S.']\n",
      "WARNING author non ASCII ['Mattsson, Hans-Åke']\n",
      "WARNING author non ASCII ['Gärdsback, Mattias']\n",
      "WARNING author non ASCII ['Hammarström, Björn']\n",
      "WARNING author non ASCII ['Bjärnhall, Nicklas']\n",
      "WARNING author non ASCII ['Lööf, Hans']\n",
      "WARNING author non ASCII ['Pehrson, Björn']\n",
      "WARNING author non ASCII ['Döse, Magnus']\n",
      "WARNING author non ASCII ['Öktem, Ozan']\n",
      "WARNING author non ASCII ['Conradt, Jörg']\n",
      "WARNING author non ASCII ['Blöcker, Aljona']\n",
      "WARNING author non ASCII ['Åstrand, Max']\n",
      "WARNING author non ASCII ['Häggmark-Månberg, Anna']\n",
      "WARNING author non ASCII ['Imre, Balázs']\n",
      "WARNING author non ASCII ['Hamrin, Göran']\n",
      "WARNING author non ASCII ['Schöll, Eva']\n",
      "WARNING author non ASCII ['Dahlgren, Björn']\n",
      "WARNING author non ASCII ['Kivijärvi, Tove']\n",
      "WARNING author non ASCII ['Bergström, Sofia']\n",
      "WARNING author non ASCII ['Fröjd, Felicia']\n",
      "WARNING author non ASCII ['Högqvist, Mark']\n",
      "WARNING author non ASCII ['Nordström, Lars']\n",
      "WARNING author non ASCII ['Hermansson, Hélène' 'Hermansson Järvenpää, Hélène']\n",
      "WARNING author non ASCII ['Strömgren, Tobias']\n",
      "WARNING author non ASCII ['Gothäll, Rikard']\n",
      "WARNING author non ASCII ['Lögdberg, Ola']\n",
      "WARNING author non ASCII ['Björklund, Johan']\n",
      "WARNING author non ASCII ['Ramström, Margareta']\n",
      "WARNING author non ASCII ['Grönwall, Caroline']\n",
      "WARNING author non ASCII ['Olsson, Håkan']\n",
      "WARNING author non ASCII ['Nordström, Fredrik']\n",
      "WARNING author non ASCII ['de Almeida, Katia Júlia']\n",
      "WARNING author non ASCII ['Sjödahl, Johan']\n",
      "WARNING author non ASCII ['Varnäs, Annika']\n",
      "WARNING author non ASCII ['Andersson, Sören']\n",
      "WARNING author non ASCII ['Marcks von Würtemberg, Rickard' 'Marcks Von Würtemberg, Richard']\n",
      "WARNING author non ASCII ['Ödberg, Lars']\n",
      "WARNING author non ASCII ['Ståhl, Marie']\n",
      "WARNING author non ASCII ['Markström, Andreas']\n",
      "WARNING author non ASCII ['Rigamonti, NicolÁ²']\n",
      "WARNING author non ASCII ['Sundquist, Håkan' 'Sundqvist, Håkan']\n",
      "WARNING author non ASCII ['Århammar, Cecilia']\n",
      "WARNING author non ASCII ['Sandén, Tor']\n",
      "WARNING author non ASCII ['Engström, Alexander']\n",
      "WARNING author non ASCII ['Löfdahl, Per-Åke' 'Löfdahl, Per-Ake']\n",
      "WARNING author non ASCII ['Bryngelsson, Mårten']\n",
      "WARNING author non ASCII ['Lindström, Anders']\n",
      "WARNING author non ASCII ['Tidström, Jonas']\n",
      "WARNING author non ASCII ['Simonsson, Mårten']\n",
      "WARNING author non ASCII ['Atterhög, Mikael']\n",
      "WARNING author non ASCII ['Öberg, Christine']\n",
      "WARNING author non ASCII ['Tholén, Erik' 'Tholén, Erik A.']\n",
      "WARNING author non ASCII ['Cederström, Björn']\n",
      "WARNING author non ASCII ['Åslund, Magnus']\n",
      "WARNING author non ASCII ['Jelger, Pär']\n",
      "WARNING author non ASCII ['Karlström, Katarina']\n",
      "WARNING author non ASCII ['Ramström, Eva']\n",
      "WARNING author non ASCII ['Valastyán, Iván']\n",
      "WARNING author non ASCII ['Sandström, Malin']\n",
      "WARNING author non ASCII ['Fouquier d-™HérouÁ«l, Aymeric' \"Fouquier d'Hérouel, Aymeric\"\n",
      " \"Fouquier d'HérouÁ«l, Aymeric\"]\n",
      "WARNING author non ASCII ['Gimåker, Magnus']\n",
      "WARNING author non ASCII ['Östlund, Magnus']\n",
      "WARNING author non ASCII ['Höök, David']\n",
      "WARNING author non ASCII ['Caraballo, Rémi']\n",
      "WARNING author non ASCII ['Köhnenkamp, Christian V.']\n",
      "WARNING author non ASCII ['Lundén, Dag']\n",
      "WARNING author non ASCII ['Lövehagen, Nina']\n",
      "WARNING author non ASCII ['Hellström, Fredrik' 'Hellström, Fredirk']\n",
      "WARNING author non ASCII ['Hedström, Lars']\n",
      "WARNING author non ASCII ['Tingelöf, Thomas']\n",
      "WARNING author non ASCII ['Berglöf, Carl']\n",
      "WARNING author non ASCII ['André, Magnus']\n",
      "WARNING author non ASCII ['Grönhagen, Klara' 'Grönhagen, Klara Asp']\n",
      "WARNING author non ASCII ['Almér, Stefan']\n",
      "WARNING author non ASCII ['Jönsson, Ulf' 'Jönsson, Ulf T.']\n",
      "WARNING author non ASCII ['Cars, Göran']\n",
      "WARNING author non ASCII ['Römhild, Stefanie']\n",
      "WARNING author non ASCII ['Erséus, Andreas']\n",
      "WARNING author non ASCII ['Feldötö, Zsombor']\n",
      "WARNING author non ASCII ['Bäcke, Linda']\n",
      "WARNING author non ASCII ['Rönnqvist, Hans' 'Rönnqvist, Hans F.']\n",
      "WARNING author non ASCII ['Wernérus, Henrik']\n",
      "WARNING author non ASCII ['Melinder, Åke']\n",
      "WARNING author non ASCII ['Kronander, Håkan']\n",
      "WARNING author non ASCII ['Elmqvist, Håkan']\n",
      "WARNING author non ASCII ['Krämer, Roland']\n",
      "WARNING author non ASCII ['Målberg, Sofia']\n",
      "WARNING author non ASCII ['Björner, Anders']\n",
      "WARNING author non ASCII ['Björkman, Eva']\n",
      "WARNING author non ASCII ['Ängquist, Lennart']\n",
      "WARNING author non ASCII ['Palmgren, Pål']\n",
      "WARNING author non ASCII ['Kjellström, Hedvig']\n",
      "WARNING author non ASCII ['Bergström, Lars Magnus' 'Bergström, Magnus' 'Bergström, L. Magnus'\n",
      " 'Bergström, Lennart Magnus']\n",
      "WARNING author non ASCII ['Lindhé, M.' 'Minnema Lindhé, Magnus']\n",
      "WARNING author non ASCII ['Häggman, Leif']\n",
      "WARNING author non ASCII ['Nordlöf, Mats']\n",
      "WARNING author non ASCII ['Jacobsson, Björn']\n",
      "WARNING author non ASCII ['Lindblad, Göran']\n",
      "WARNING author non ASCII ['Sjöberg, John']\n",
      "WARNING author non ASCII ['Schässburger, Kai-Uwe']\n",
      "WARNING author non ASCII ['Holmström, Kerstin']\n",
      "WARNING author non ASCII ['Åkermark, Torbjörn' 'Akermark, Torbjörn']\n",
      "WARNING author non ASCII ['Naeve, Ambjörn']\n",
      "WARNING author non ASCII ['Hållstedt, Julius']\n",
      "WARNING author non ASCII ['Kallas, Åsa M.' 'Kallas, Åsa']\n",
      "WARNING author non ASCII ['Örtendahl, Monica']\n",
      "WARNING author non ASCII ['Häggström, Lena']\n",
      "WARNING author non ASCII ['Westberg, Åsa']\n",
      "WARNING author non ASCII ['Höök, Pia']\n",
      "WARNING author non ASCII ['Zazzi, Åsa']\n",
      "WARNING author non ASCII ['Lundow, Per Håkan']\n",
      "WARNING author non ASCII ['Björling, Erik']\n",
      "WARNING author non ASCII ['Sjöström, Krister']\n",
      "WARNING author non ASCII ['Agnarsson, Björn']\n",
      "WARNING author non ASCII ['Håkansson, Cristian']\n",
      "WARNING author non ASCII ['Siegert, Jörg']\n",
      "WARNING author non ASCII ['RodrÁ\\xadguez de Llera González, Delia']\n",
      "WARNING author non ASCII ['Westerbäck, Thomas']\n",
      "WARNING author non ASCII ['Sjöstedt, Carin' 'Sjöstedt, Carin S.']\n",
      "WARNING author non ASCII ['Björkman, Ulf']\n",
      "WARNING author non ASCII ['Hallström, Samuel']\n",
      "WARNING author non ASCII ['Sjölander, Peta']\n",
      "WARNING author non ASCII ['Kolsrud, Torbjörn']\n",
      "WARNING author non ASCII ['Hörlin, Nils-Erik' 'Hörlin, Nils']\n",
      "WARNING author non ASCII ['Wållberg, Helena']\n",
      "WARNING author non ASCII ['Lundbäck, Anna-Karin']\n",
      "WARNING author non ASCII ['Törnblom, Olle']\n",
      "WARNING author non ASCII ['Ljunggren, Emma Eklöf']\n",
      "WARNING author non ASCII ['Köpcke, Viviana']\n",
      "WARNING author non ASCII ['Ekström, Camilla']\n",
      "WARNING author non ASCII ['Sköllermo, Anna']\n",
      "WARNING author non ASCII ['Kännaste, Astrid']\n",
      "WARNING author non ASCII ['Bergström, Johannes']\n",
      "WARNING author non ASCII ['Hüttenrauch, Helge']\n",
      "WARNING author non ASCII ['Sjödin, Marica' 'Sjödin, Anna Marica' 'Sjödin, A. Marica']\n",
      "WARNING author non ASCII ['Björnson, Emil']\n",
      "WARNING author non ASCII ['Östberg, Martin']\n",
      "WARNING author non ASCII ['Hansson, Håkan']\n",
      "WARNING author non ASCII ['Strömqvist, Johan']\n",
      "WARNING author non ASCII ['Araujo, José' 'Araújo, José']\n",
      "WARNING author non ASCII ['Sandström, Greger']\n",
      "WARNING author non ASCII ['Gullström, Charlie']\n",
      "WARNING author non ASCII ['Ångström, Hans-Erik' 'Ångström, Hans Erik']\n",
      "WARNING author non ASCII ['Kiele, Jörn']\n",
      "WARNING author non ASCII ['Sundström, Stefan']\n",
      "WARNING author non ASCII ['Reinmüller, Berit']\n",
      "WARNING author non ASCII ['Engström, Rebecka']\n",
      "WARNING author non ASCII ['Svane, Örjan']\n",
      "WARNING author non ASCII ['Högberg, Lovisa']\n",
      "WARNING author non ASCII ['Älgenäs, Cajsa']\n",
      "WARNING author non ASCII ['Söderholm, Jonas']\n",
      "WARNING author non ASCII ['Jääskeläinen, Anna-Stiina']\n",
      "WARNING author non ASCII ['Björk, Erik']\n",
      "WARNING author non ASCII ['Melbéus, Henrik']\n",
      "WARNING author non ASCII ['Strömbergsson, Andreas']\n",
      "WARNING author non ASCII ['Åkerstedt, Josefin']\n",
      "WARNING author non ASCII ['Nordström, Jan']\n",
      "WARNING author non ASCII ['Molén, Joel']\n",
      "WARNING author non ASCII ['Engquist, Björn']\n"
     ]
    },
    {
     "name": "stdout",
     "output_type": "stream",
     "text": [
      "WARNING author non ASCII ['Dånmark, Staffan']\n",
      "WARNING author non ASCII ['Elenius, Måns']\n",
      "WARNING author non ASCII ['Hofström, Camilla']\n",
      "WARNING author non ASCII ['Rydén, Tobias']\n",
      "WARNING author non ASCII ['Käck, Emilia']\n",
      "WARNING author non ASCII ['Häcker, Christine']\n",
      "WARNING author non ASCII ['Trané, Camilla']\n",
      "WARNING author non ASCII ['Tjörnhammar, Richard' 'Tjörnhammar, Richard O.']\n",
      "WARNING author non ASCII ['Höök, L. Josef' 'Höök, Josef' 'Höök, Lars Josef']\n",
      "WARNING author non ASCII ['Järver, Peter']\n",
      "WARNING author non ASCII ['Renberg, Björn']\n",
      "WARNING author non ASCII ['Ericson, Mårten']\n",
      "WARNING author non ASCII ['Bång, Karl-Lennart' 'Bång, Karl Lennart']\n",
      "WARNING author non ASCII ['Trönnberg, Linda']\n",
      "WARNING author non ASCII ['Söderström, Ove']\n",
      "WARNING author non ASCII ['Rehbinder, Göran']\n",
      "WARNING author non ASCII ['Björkman, Mårten']\n",
      "WARNING author non ASCII ['Carlström, Johan']\n",
      "WARNING author non ASCII ['Granlund, Torbjörn']\n",
      "WARNING author non ASCII ['Nygårds, Mikael']\n",
      "WARNING author non ASCII ['Andersson, Göran']\n",
      "WARNING author non ASCII ['Karlén, Kristoffer']\n",
      "WARNING author non ASCII ['Sjöberg, Anna']\n",
      "WARNING author non ASCII ['Laurell Lyne, Åsa']\n",
      "WARNING author non ASCII ['Rosén, Robert']\n",
      "WARNING author non ASCII ['SchoÌˆner, Adolf']\n",
      "WARNING author non ASCII ['Almlöf, Jonas']\n",
      "WARNING author non ASCII ['Ribbenfjärd, David']\n",
      "WARNING author non ASCII ['Larson, Åsa']\n",
      "WARNING author non ASCII ['Åbergh, Annica']\n",
      "WARNING author non ASCII ['Ileri, Ömer']\n",
      "WARNING author non ASCII ['Görtz, Stefan']\n",
      "WARNING author non ASCII ['Engström, Emma']\n",
      "WARNING author non ASCII ['Frånberg, Oskar']\n",
      "WARNING author non ASCII ['Dersjö, Tomas']\n",
      "WARNING author non ASCII ['Björnberg, Jakob Erik']\n",
      "WARNING author non ASCII ['Öster, Jonas']\n",
      "WARNING author non ASCII ['Björnbom, Emilia']\n",
      "WARNING author non ASCII ['Nilhlén Fahlquist, Jessica' 'Nihlén Fahlquist, Jessica']\n",
      "WARNING author non ASCII ['Stenström, Petter']\n",
      "WARNING author non ASCII ['Sjödin, Mikael']\n",
      "WARNING author non ASCII ['Gårdestedt, Caroline']\n",
      "WARNING author non ASCII ['Rothhämel, Mirja']\n",
      "WARNING author non ASCII ['Österdahl, Fabian']\n",
      "WARNING author non ASCII ['Söder, Mats']\n",
      "WARNING author non ASCII ['Sörstedt, Claes']\n",
      "WARNING author non ASCII ['Stöckli, Michael']\n",
      "WARNING author non ASCII ['Öberg, Kim']\n",
      "WARNING author non ASCII ['Häller, Sara']\n",
      "WARNING author non ASCII ['Bivén, Annelle']\n",
      "WARNING author non ASCII ['Molnár, Mátyás' 'Molnar, Mátyás']\n",
      "WARNING author non ASCII ['Manneberg, Göran']\n",
      "WARNING author non ASCII ['Bjelkmar, Pär']\n",
      "WARNING author non ASCII ['Edrén, Johannes']\n",
      "WARNING author non ASCII ['Dubus, GaÁ«l']\n",
      "WARNING author non ASCII ['Wåtz, Veronica']\n",
      "WARNING author non ASCII ['Wallner, Björn']\n",
      "WARNING author non ASCII ['Hägg, Göran' 'Hägg, Göran M.']\n",
      "WARNING author non ASCII ['Björkner, Eva']\n",
      "WARNING author non ASCII ['Möller, Cecilia']\n",
      "WARNING author non ASCII ['Lindström, Stefan B.']\n",
      "WARNING author non ASCII ['Malmström, Hans']\n",
      "WARNING author non ASCII ['Närman, Per']\n",
      "WARNING author non ASCII ['König, Johan']\n",
      "WARNING author non ASCII ['Glimskär, Bo']\n",
      "WARNING author non ASCII ['Lindström, Mikael']\n",
      "WARNING author non ASCII ['Setréus, Johan']\n",
      "WARNING author non ASCII ['Boström, Tove']\n",
      "WARNING author non ASCII ['Johansson, Börje' 'Johansson, Börje M.']\n",
      "WARNING author non ASCII ['Sjöö, Kristoffer']\n",
      "WARNING author non ASCII ['Laxåback, Martin']\n",
      "WARNING author non ASCII ['Östlin, Andreas']\n",
      "WARNING author non ASCII ['Ritzén, Sofia']\n",
      "WARNING author non ASCII ['Sjöberg, Sören']\n",
      "WARNING author non ASCII ['Vehkaperä, Mikko' 'Vehkaperä, mikko']\n",
      "WARNING author non ASCII ['Ernvall-Hytönen, Anne-Maria' 'Ernvall-Hytönen, Anna Maria']\n",
      "WARNING author non ASCII ['Johansson, Björn']\n",
      "WARNING author non ASCII ['Ekström, Anders']\n",
      "WARNING author non ASCII ['Uhlén, Fredrik']\n",
      "WARNING author non ASCII ['Ekbäck, Peter']\n",
      "WARNING author non ASCII ['Rapp, Östen']\n",
      "WARNING author non ASCII ['Jönsson, Sonny E']\n",
      "WARNING author non ASCII ['Sundberg, Mårten']\n",
      "WARNING author non ASCII ['Blomé, Gunnar']\n",
      "WARNING author non ASCII ['Jaldén, Niklas']\n",
      "WARNING author non ASCII ['Dahlgren, Lars-Göran']\n",
      "WARNING author non ASCII ['Palmér, Matthias']\n",
      "WARNING author non ASCII ['López, Dorian G´alvez']\n",
      "WARNING author non ASCII ['Björkman, Beyza']\n",
      "WARNING author non ASCII ['Öberg, Fredrik']\n",
      "WARNING author non ASCII ['Räsänen, Minna']\n",
      "WARNING author non ASCII ['Larcher, Aurélien']\n",
      "WARNING author non ASCII ['Lundström, Stellan']\n",
      "WARNING author non ASCII ['Wallin, Jörgen']\n",
      "WARNING author non ASCII ['Görling, Martin']\n",
      "WARNING author non ASCII ['Söderman, Pehr']\n",
      "WARNING author non ASCII ['Norén, Johanna']\n",
      "WARNING author non ASCII ['Mårtensson, Lena' 'Mårtensson, Lena K.']\n",
      "WARNING author non ASCII ['Wikström, Douglas']\n",
      "WARNING author non ASCII ['Häggblad, Jon']\n",
      "WARNING author non ASCII ['Wikforss, Örjan']\n",
      "WARNING author non ASCII ['Fälthammar, Carl-Gunne']\n",
      "WARNING author non ASCII ['Hammarén, Maria']\n",
      "WARNING author non ASCII ['Kågeson, Per']\n",
      "WARNING author non ASCII ['Ölundh Sandström, Gunilla']\n",
      "WARNING author non ASCII ['Selin, Mårten']\n",
      "WARNING author non ASCII ['Edlund, Åke']\n",
      "WARNING author non ASCII ['Franzén, Frida']\n",
      "WARNING author non ASCII ['Hemphälä, Jens']\n",
      "WARNING author non ASCII ['Costa FelicÁ\\xadssimo, Viviane']\n",
      "WARNING author non ASCII ['Fernandes GuimarÁ£es, Freddy']\n",
      "WARNING author non ASCII ['Möller, Björn']\n",
      "WARNING author non ASCII ['Gammelgård, Magnus']\n",
      "WARNING author non ASCII ['Håkansson, Maria']\n",
      "WARNING author non ASCII ['Rydström, Stefan']\n",
      "WARNING author non ASCII ['Fröding, Barbro']\n",
      "WARNING author non ASCII ['Lilliesköld, Joakim']\n",
      "WARNING author non ASCII ['Küngas, Peep']\n",
      "WARNING author non ASCII ['Rämmal, Hans']\n",
      "WARNING author non ASCII ['Hellers, Bo Göran']\n",
      "WARNING author non ASCII ['Waldén, Annelie']\n",
      "WARNING author non ASCII ['Mårtelius, Johan']\n",
      "WARNING author non ASCII ['Öhman, Henrik']\n",
      "WARNING author non ASCII ['Mäkitalo, Östen']\n",
      "WARNING author non ASCII ['Uusi-Penttilä, Marketta']\n",
      "WARNING author non ASCII ['Tranströmer, Göran']\n",
      "WARNING author non ASCII ['Brännmark, Mikael']\n",
      "WARNING author non ASCII ['Bergström, Elina Mabasa']\n",
      "WARNING author non ASCII ['Söderström, Bill']\n",
      "WARNING author non ASCII ['Ljustell, Pär']\n",
      "WARNING author non ASCII ['Björk, Jennie']\n",
      "WARNING author non ASCII ['Langhé, Roland G.']\n",
      "WARNING author non ASCII ['Månsson, Teresia']\n",
      "WARNING author non ASCII ['Edström, Fredrik']\n",
      "WARNING author non ASCII ['Ormachea Muñoz, Mauricio Rodolfo' 'Ormachea Muñoz, Mauricio']\n",
      "WARNING author non ASCII ['RÁ¸hne, O']\n",
      "WARNING author non ASCII ['Yngström, Louise']\n",
      "WARNING author non ASCII ['Eldvall, Björn']\n",
      "WARNING author non ASCII ['Svensson, Björn']\n",
      "WARNING author non ASCII ['Bérard, Adrien']\n",
      "WARNING author non ASCII ['Gråsjö, Urban']\n",
      "WARNING author non ASCII ['Jönsson, Per-Anders' 'Jönsson, Pär-Anders']\n",
      "WARNING author non ASCII ['Ståhlkranz, Adam']\n",
      "WARNING author non ASCII ['Flärdh, Oscar']\n",
      "WARNING author non ASCII ['Strömqvist, Martin H.' 'Strömqvist, Martin']\n",
      "WARNING author non ASCII ['Swarén, Mikael']\n",
      "WARNING author non ASCII ['Holmström, Nicklas']\n",
      "WARNING author non ASCII ['MarÁ\\xad\\xadn, SÁ\\xadlvia RodrÁ\\xadguez']\n",
      "WARNING author non ASCII ['Nyström, Gustav']\n",
      "WARNING author non ASCII ['Almén, Lena']\n",
      "WARNING author non ASCII ['Schütz, Christina']\n",
      "WARNING author non ASCII ['Råsbrant, Jonas']\n",
      "WARNING author non ASCII ['Österlind, Magnus']\n",
      "WARNING author non ASCII ['Hedegård, Joakim']\n",
      "WARNING author non ASCII ['Larsson, Mårten']\n",
      "WARNING author non ASCII ['Á“lafsdóttir, Á\\x81sdÁ\\xads']\n",
      "WARNING author non ASCII ['Lindström, Tom']\n",
      "WARNING author non ASCII ['Schütz, Christina']\n",
      "WARNING author non ASCII ['Hällman, Jimmie']\n",
      "WARNING author non ASCII ['Boström, Mathias']\n",
      "WARNING author non ASCII ['Hagström, Erik']\n",
      "WARNING author non ASCII ['Wirfält, Petter']\n",
      "WARNING author non ASCII ['Helgason, Á“lafur']\n",
      "WARNING author non ASCII ['Strömbergsson, Sofia']\n",
      "WARNING author non ASCII ['Hidefjäll, Patrik']\n",
      "WARNING author non ASCII ['Lövkvist, Cecilia']\n",
      "WARNING author non ASCII ['Göranzon, Bo']\n",
      "WARNING author non ASCII ['Gällstedt, Mikael']\n",
      "WARNING author non ASCII ['Edsgärd, Daniel']\n",
      "WARNING author non ASCII ['Fallqvist, Björn']\n",
      "WARNING author non ASCII ['Tjörnhammar, Staffan']\n",
      "WARNING author non ASCII ['Ekström, Madeleine']\n",
      "WARNING author non ASCII ['Möller, Anders']\n",
      "WARNING author non ASCII ['Edström, Alexander']\n",
      "WARNING author non ASCII ['Wåhslén, Jonas']\n",
      "WARNING author non ASCII ['Hasselgren, Björn']\n",
      "WARNING author non ASCII ['Mölleryd, Carin']\n",
      "WARNING author non ASCII ['Hällgren, Nina']\n",
      "WARNING author non ASCII ['Brömstrup, Torben']\n",
      "WARNING author non ASCII ['Åstrand, Mikael']\n",
      "WARNING author non ASCII ['Öberg, Martin']\n",
      "WARNING author non ASCII ['Nylén, Per']\n",
      "WARNING author non ASCII ['Bergström, Lennart']\n",
      "WARNING author non ASCII ['Fröidh, Oskar']\n",
      "WARNING author non ASCII ['Bergström, Niklas']\n",
      "WARNING author non ASCII ['Rogstam, Jörgen']\n",
      "WARNING author non ASCII ['Öçba, Fatma Nadide']\n"
     ]
    },
    {
     "name": "stdout",
     "output_type": "stream",
     "text": [
      "WARNING author non ASCII ['Gabry, Frédéric']\n",
      "WARNING author non ASCII ['Österberg, Elin']\n",
      "WARNING author non ASCII ['Königsson, Fredrik']\n",
      "WARNING author non ASCII ['Rüdiger, Arne']\n",
      "WARNING author non ASCII ['Kahles, André']\n",
      "WARNING author non ASCII ['Renström, Jonas']\n",
      "WARNING author non ASCII ['Gudmundsson, Thorbjörn']\n",
      "WARNING author non ASCII ['Svärd, Henrik']\n",
      "WARNING author non ASCII ['Morales-España, Germán']\n",
      "WARNING author non ASCII ['González-Hässig, Andrés']\n",
      "WARNING author non ASCII ['Krüger, Niclas A.']\n",
      "WARNING author non ASCII ['Norström, Emelie']\n",
      "WARNING author non ASCII ['Dymén, Christian']\n",
      "WARNING author non ASCII ['Nyblom, Åsa']\n",
      "WARNING author non ASCII ['Norén, Johan']\n",
      "WARNING author non ASCII ['Izaki, Åsmund']\n",
      "WARNING author non ASCII ['Nyström, Johan']\n",
      "WARNING author non ASCII ['Börjesson Rivera, Miriam']\n",
      "WARNING author non ASCII ['Hägg, Per']\n",
      "WARNING author non ASCII ['Wikström, Martina']\n",
      "WARNING author non ASCII ['Mårtensson, Per']\n",
      "WARNING author non ASCII ['VélÁ«z, Heriberto']\n",
      "WARNING author non ASCII ['Kårekull, Oscar']\n",
      "WARNING author non ASCII ['NoÁ«l, Quentin']\n",
      "WARNING author non ASCII ['Hellström, Björn']\n",
      "WARNING author non ASCII ['Schüldt, Christian']\n",
      "WARNING author non ASCII ['Lehtiö, Janne']\n",
      "WARNING author non ASCII ['Särnegrim, Amanda']\n",
      "WARNING author non ASCII ['Schmölzer, Gernot']\n",
      "WARNING author non ASCII ['Välja, Margus']\n",
      "WARNING author non ASCII ['Björnmalm, Mattias']\n",
      "WARNING author non ASCII ['Bergström, Anders']\n",
      "WARNING author non ASCII ['Åström, Joachim']\n",
      "WARNING author non ASCII ['Larusdottir, Marta KristÁ\\xadn']\n",
      "WARNING author non ASCII ['Svärdh, Joakim']\n",
      "WARNING author non ASCII ['Schütz, Christina' 'Schütze, Christina']\n",
      "WARNING author non ASCII ['Ödegård, Synnöve']\n",
      "WARNING author non ASCII ['Izaki, Åsmund']\n",
      "WARNING author non ASCII ['Bjarnason, Brynjar Smári']\n",
      "WARNING author non ASCII ['Högberg, Daniel']\n",
      "WARNING author non ASCII ['Löv, Åsa']\n",
      "WARNING author non ASCII ['Snäll, Jonatan']\n",
      "WARNING author non ASCII ['Müller, Rasmus']\n",
      "WARNING author non ASCII ['Salinas, Maria Muñoz']\n",
      "WARNING author non ASCII ['Simonsson, Mårten']\n",
      "WARNING author non ASCII ['Sköldström, Pontus']\n",
      "WARNING author non ASCII ['Thorén, Kent']\n",
      "WARNING author non ASCII ['Björndal, Petra']\n",
      "WARNING author non ASCII ['Sjöberg, Gustav']\n",
      "WARNING author non ASCII ['Sundström, Per']\n",
      "WARNING author non ASCII ['Lagerblad, Björn']\n",
      "WARNING author non ASCII ['Bäcklund, Anna']\n",
      "WARNING author non ASCII ['Hägg, Göran M.']\n",
      "WARNING author non ASCII ['Persson, Clas-Göran']\n",
      "WARNING author non ASCII ['Ånmark, Niclas']\n",
      "WARNING author non ASCII ['Laganá, Marcello']\n",
      "WARNING author non ASCII ['Sipilä, Hans']\n",
      "WARNING author non ASCII ['Ahlström, Peter']\n",
      "WARNING author non ASCII ['Björnbom, Pehr']\n",
      "WARNING author non ASCII ['Médioni, Charlotte']\n",
      "WARNING author non ASCII ['Bouya, IsmaÁ«l']\n",
      "WARNING author non ASCII ['Bégué, D.']\n",
      "WARNING author non ASCII ['Sahlén, Anders']\n",
      "WARNING author non ASCII ['Limén, Helene']\n",
      "WARNING author non ASCII ['Cederlöf, Gunnel']\n",
      "WARNING author non ASCII ['Clénet, Jocelyn']\n",
      "WARNING author non ASCII ['Ruiz-Calvo, Félix']\n",
      "WARNING author non ASCII ['Diószegi, Attila']\n",
      "WARNING author non ASCII ['Göthlin, Mårten']\n",
      "WARNING author non ASCII ['ÄŒelik, Haris']\n",
      "WARNING author non ASCII ['Mörsdorf, Alexander']\n",
      "WARNING author non ASCII ['MartoÅˆák, Roman']\n",
      "WARNING author non ASCII ['Mücksch, Jonas']\n",
      "WARNING author non ASCII ['Wesén, Björn']\n",
      "WARNING author non ASCII ['Schütz, Christina']\n",
      "WARNING author non ASCII ['Schütz, Christina']\n",
      "WARNING author non ASCII ['Lundström, Anders']\n",
      "WARNING author non ASCII ['Björk, Sara M.']\n",
      "WARNING author non ASCII ['Stoby Höglund, Jenny']\n",
      "WARNING author non ASCII ['Umbert López, Cyan']\n",
      "WARNING author non ASCII ['Pålsson, K.']\n",
      "WARNING author non ASCII ['Franzén, Daniel']\n",
      "WARNING author non ASCII ['MikÅ¡a, Mladen']\n",
      "WARNING author non ASCII ['Nylén, Per']\n",
      "WARNING author non ASCII ['Wennström, Jonas']\n",
      "WARNING author non ASCII ['Å…kermo, M.']\n",
      "WARNING author non ASCII ['PoláÄ\\x8dek, Lukas']\n",
      "WARNING author non ASCII ['L-™Abbate, Mario Enrico']\n",
      "WARNING author non ASCII ['Färm, Anna']\n",
      "WARNING author non ASCII ['Ericsson, Göran']\n",
      "WARNING author non ASCII ['Högman, Virgile']\n",
      "WARNING author non ASCII ['Laiback, Åsa']\n",
      "WARNING author non ASCII ['Strömgren, Per']\n",
      "WARNING author non ASCII ['Götze, Jana']\n",
      "WARNING author non ASCII ['Ekengård, Johan']\n",
      "WARNING author non ASCII ['Olsson, Göran F.' 'Olsson, Göran']\n",
      "WARNING author non ASCII ['Norrström, Emily']\n",
      "WARNING author non ASCII ['Schulte-Herbrüggen, Helfrid M. A.']\n",
      "WARNING author non ASCII ['Öberg, Helena']\n",
      "WARNING author non ASCII ['Braun Thörn, Helena']\n",
      "WARNING author non ASCII ['Lindén, Julia']\n",
      "WARNING author non ASCII ['Klemming Eklöf, Finn']\n",
      "WARNING author non ASCII ['Åberg, Lena Magnusson']\n"
     ]
    }
   ],
   "source": [
    "id_auth = dict()\n",
    "non_asci = list()\n",
    "for u_id in unique_kth_id:\n",
    "    exist_ascII = False\n",
    "    authors = KTH_author[KTH_author.KTH_id == u_id].Name.unique()\n",
    "    if len(authors) > 1:\n",
    "        \n",
    "        for a in authors:\n",
    "            if all(ord(c) < 128 for c in a):\n",
    "                id_auth[u_id] = a\n",
    "                exist_ascII = True\n",
    "        if not exist_ascII:\n",
    "            print(\"WARNING author non ASCII\", authors)\n",
    "            non_asci.append(u_id)\n",
    "        \n",
    "    else:\n",
    "        if all(ord(c) < 128 for c in authors[0]):\n",
    "            id_auth[u_id] = authors[0]\n",
    "            exist_ascII = True\n",
    "            id_auth[u_id] = authors[0]\n",
    "        if not exist_ascII:\n",
    "            print(\"WARNING author non ASCII\", authors)\n",
    "            non_asci.append(u_id)\n",
    "    exist_ascII = False"
   ]
  },
  {
   "cell_type": "markdown",
   "metadata": {},
   "source": [
    "Make a dictonary containing all non-ascii names."
   ]
  },
  {
   "cell_type": "code",
   "execution_count": 72,
   "metadata": {},
   "outputs": [],
   "source": [
    "translate_dict = dict();\n",
    "translate_dict[\"ö\"] = \"o\"\n",
    "translate_dict[\"ä\"] = \"a\"\n",
    "translate_dict[\"å\"] = \"a\"\n",
    "translate_dict[\"Ö\"] = \"O\"\n",
    "translate_dict[\"Ä\"] = \"A\"\n",
    "translate_dict[\"Å\"] = \"A\"\n",
    "translate_dict[\"é\"] = \"e\"\n",
    "translate_dict[\"ü\"] = \"u\"\n",
    "translate_dict[\"á\"] = \"a\"\n",
    "translate_dict[\"Á\"] = \"A\"\n",
    "translate_dict[\"\\xad\"] = \"\"\n",
    "translate_dict[\"æ\"] = \"a\"\n",
    "translate_dict[\"¡\"] = \"i\"\n",
    "translate_dict[\"«\"] = \"a\"\n",
    "translate_dict[\"ó\"] = \"O\"\n",
    "translate_dict[\"œ\"] = \"o\"\n",
    "translate_dict[\"\\xa0\"] = \"\"\n",
    "translate_dict[\"ç\"] = \"c\"\n",
    "translate_dict[\"ñ\"] = \"n\"\n",
    "translate_dict[\"ú\"] = \"u\"\n",
    "translate_dict[\",\"] = \"\"\n",
    "translate_dict[\"è\"] = \"e\"\n",
    "translate_dict[\"‰\"] = \"\"\n",
    "translate_dict[\"‰\"] = \"\"\n",
    "translate_dict[\"£\"] = \"E\"\n",
    "translate_dict[\"“\"] = \"\"\n",
    "translate_dict[\"ˆ\"] = \"\"\n",
    "translate_dict[\"\\x8d\"] = \"\"\n",
    "translate_dict[\"™\"] = \"\"\n",
    "translate_dict[\"²\"] = \"\"\n",
    "translate_dict[\"Ì\"] = \"I\"\n",
    "translate_dict[\"\\x81\"] = \"\"\n",
    "translate_dict[\"Œ\"] = \"E\"\n",
    "translate_dict[\"´\"] = \"\"\n",
    "translate_dict[\"¸\"] = \"\"\n",
    "translate_dict[\"…\"] = \"\"\n",
    "\n",
    "\n",
    "\n"
   ]
  },
  {
   "cell_type": "code",
   "execution_count": 81,
   "metadata": {},
   "outputs": [],
   "source": [
    "class non_ascii(object):\n",
    "    def make_name_noAscii(self, ascii_name):\n",
    "        name = str()\n",
    "        for l in ascii_name:\n",
    "            if ord(l) < 128:\n",
    "                name +=l\n",
    "            else:\n",
    "                name += translate_dict[l]\n",
    "        return name\n",
    "\n",
    "    def translate_name(self, non_asci, id_auth):\n",
    "        for u_id in non_asci:\n",
    "            authors = KTH_author[KTH_author.KTH_id == u_id].Name.unique()\n",
    "            a = authors[0]\n",
    "            id_auth[u_id] = self.make_name_noAscii(a)\n",
    "        return id_auth "
   ]
  },
  {
   "cell_type": "code",
   "execution_count": 85,
   "metadata": {},
   "outputs": [],
   "source": [
    "id_auth = non_ascii().translate_name(non_asci, id_auth)"
   ]
  },
  {
   "cell_type": "code",
   "execution_count": 86,
   "metadata": {},
   "outputs": [
    {
     "data": {
      "text/plain": [
       "7811"
      ]
     },
     "execution_count": 86,
     "metadata": {},
     "output_type": "execute_result"
    }
   ],
   "source": [
    "len(id_auth.values())"
   ]
  },
  {
   "cell_type": "code",
   "execution_count": 87,
   "metadata": {},
   "outputs": [
    {
     "data": {
      "text/plain": [
       "7811"
      ]
     },
     "execution_count": 87,
     "metadata": {},
     "output_type": "execute_result"
    }
   ],
   "source": [
    "len(KTH_author.KTH_id.unique())"
   ]
  },
  {
   "cell_type": "code",
   "execution_count": 88,
   "metadata": {},
   "outputs": [],
   "source": [
    "ascii_name = list()\n",
    "for id_x in KTH_author.KTH_id:\n",
    "    ascii_name.append(id_auth[id_x])"
   ]
  },
  {
   "cell_type": "code",
   "execution_count": 89,
   "metadata": {},
   "outputs": [
    {
     "data": {
      "text/plain": [
       "'Name'"
      ]
     },
     "execution_count": 89,
     "metadata": {},
     "output_type": "execute_result"
    }
   ],
   "source": [
    "n = KTH_author.columns[4];n"
   ]
  },
  {
   "cell_type": "code",
   "execution_count": 90,
   "metadata": {},
   "outputs": [],
   "source": [
    "# Find the name of the column by index\n",
    "n = KTH_author.columns[4]\n",
    "\n",
    "# Drop that column\n",
    "KTH_author.drop(n, axis = 1, inplace = True)\n",
    "\n",
    "# Put whatever series you want in its place\n",
    "KTH_author[n] = ascii_name"
   ]
  },
  {
   "cell_type": "markdown",
   "metadata": {},
   "source": [
    "Create a new df to input the relevant data for future data-analysis"
   ]
  },
  {
   "cell_type": "code",
   "execution_count": 92,
   "metadata": {},
   "outputs": [],
   "source": [
    "df[\"KTH_name\"] = np.full(df.shape[0], np.nan).astype(str).tolist()\n",
    "df[\"KTH_id\"] = np.full(df.shape[0], np.nan).astype(str).tolist()\n",
    "df[\"KTH_name_id\"] = np.full(df.shape[0], np.nan).astype(str).tolist()\n",
    "df[\"department\"] = np.full(df.shape[0], np.nan).astype(str).tolist()\n",
    "df[\"school\"] = np.full(df.shape[0], np.nan).astype(str).tolist()"
   ]
  },
  {
   "cell_type": "code",
   "execution_count": 93,
   "metadata": {},
   "outputs": [
    {
     "data": {
      "text/plain": [
       "25549"
      ]
     },
     "execution_count": 93,
     "metadata": {},
     "output_type": "execute_result"
    }
   ],
   "source": [
    "len(KTH_author.Doc_id.unique())"
   ]
  },
  {
   "cell_type": "code",
   "execution_count": 94,
   "metadata": {},
   "outputs": [],
   "source": [
    "kth_pids = KTH_author.Doc_id"
   ]
  },
  {
   "cell_type": "code",
   "execution_count": 95,
   "metadata": {},
   "outputs": [
    {
     "name": "stdout",
     "output_type": "stream",
     "text": [
      "3035\n"
     ]
    }
   ],
   "source": [
    "counter = 0\n",
    "for a in range(len(kth_pids)):\n",
    "    if not df[df.Doc_id == kth_pids[a]].shape[0] > 0:\n",
    "        counter += 1\n",
    "print(counter)"
   ]
  },
  {
   "cell_type": "markdown",
   "metadata": {},
   "source": [
    "Create an dataframe that for each row have an article with it's corresponding authors."
   ]
  },
  {
   "cell_type": "code",
   "execution_count": 96,
   "metadata": {},
   "outputs": [],
   "source": [
    "for a in range(len(kth_pids)):\n",
    "    if df[df.Doc_id == kth_pids[a]].shape[0] > 0:\n",
    "        if df.loc[df.Doc_id == kth_pids[a], \"KTH_id\"].values[0] == \"nan\":\n",
    "            df.loc[df.Doc_id == kth_pids[a], \"KTH_id\"] = str(KTH_author.loc[a].KTH_id)\n",
    "            df.loc[df.Doc_id == kth_pids[a], \"KTH_name\"] = str(KTH_author.loc[a].Name)\n",
    "            \n",
    "        else:\n",
    "            df.loc[df.Doc_id == kth_pids[a], \"KTH_id\"] += \":\" + str(KTH_author.loc[a].KTH_id)\n",
    "            df.loc[df.Doc_id == kth_pids[a], \"KTH_name\"] += \":\" +  str(KTH_author.loc[a].Name)\n",
    "        \n",
    "        if KTH_author[KTH_author.Doc_id == kth_pids[a]].dep_name.shape[0]>0:\n",
    "            df.loc[df.Doc_id == kth_pids[a], \"department\"] = KTH_author[KTH_author.Doc_id == kth_pids[a]].dep_name.values[0]\n",
    "       \n",
    "    \n",
    "        if KTH_author[KTH_author.Doc_id == kth_pids[a]].skola_namn.shape[0]>0:\n",
    "            df.loc[df.Doc_id == kth_pids[a], \"school\"] = KTH_author[KTH_author.Doc_id == kth_pids[a]].skola_namn.values[0]\n",
    "       "
   ]
  },
  {
   "cell_type": "markdown",
   "metadata": {},
   "source": [
    "Drop rows where no authors were found."
   ]
  },
  {
   "cell_type": "code",
   "execution_count": 97,
   "metadata": {},
   "outputs": [],
   "source": [
    "KTH_frame = df[df.KTH_name.values != \"nan\"].reset_index(drop=True)"
   ]
  },
  {
   "cell_type": "markdown",
   "metadata": {},
   "source": [
    "Create a bijection between authors and their KTHid."
   ]
  },
  {
   "cell_type": "code",
   "execution_count": 98,
   "metadata": {},
   "outputs": [],
   "source": [
    "kth_id = KTH_author.KTH_id.unique()"
   ]
  },
  {
   "cell_type": "code",
   "execution_count": 99,
   "metadata": {},
   "outputs": [],
   "source": [
    "id_auth = dict()\n",
    "for kid in kth_id:\n",
    "    id_auth[str(kid)] = KTH_author[KTH_author.KTH_id == kid].Name.values[0]"
   ]
  },
  {
   "cell_type": "code",
   "execution_count": 104,
   "metadata": {},
   "outputs": [
    {
     "data": {
      "text/plain": [
       "7385"
      ]
     },
     "execution_count": 104,
     "metadata": {},
     "output_type": "execute_result"
    }
   ],
   "source": [
    "len(set(list(id_auth.values())))"
   ]
  },
  {
   "cell_type": "code",
   "execution_count": 103,
   "metadata": {},
   "outputs": [
    {
     "data": {
      "text/plain": [
       "426"
      ]
     },
     "execution_count": 103,
     "metadata": {},
     "output_type": "execute_result"
    }
   ],
   "source": [
    "len(set(list(id_auth.keys()))) - len(set(list(id_auth.values())))"
   ]
  },
  {
   "cell_type": "markdown",
   "metadata": {},
   "source": [
    "There exist 426 more ids than names, making it very inportant to use the IDs for future data analysis. "
   ]
  },
  {
   "cell_type": "markdown",
   "metadata": {},
   "source": [
    "In order to make an bijection all author names has to be unique. Hence, ambigous names are concatenated with their id to make the name unique."
   ]
  },
  {
   "cell_type": "code",
   "execution_count": 105,
   "metadata": {},
   "outputs": [],
   "source": [
    "rev_multidict = {}\n",
    "for key, value in id_auth.items():\n",
    "    rev_multidict.setdefault(value, set()).add(key)"
   ]
  },
  {
   "cell_type": "code",
   "execution_count": 106,
   "metadata": {},
   "outputs": [],
   "source": [
    "duplicates = [values for key, values in rev_multidict.items() if len(values) > 1]"
   ]
  },
  {
   "cell_type": "code",
   "execution_count": 107,
   "metadata": {},
   "outputs": [],
   "source": [
    "for dup in duplicates:\n",
    "    for d in dup:\n",
    "        id_auth[str(d)] = id_auth[str(d)] + \"(\" + str(d) + \")\"\n",
    "        KTH_author.loc[KTH_author.KTH_id == str(d), \"Name\"] = id_auth[str(d)]"
   ]
  },
  {
   "cell_type": "markdown",
   "metadata": {},
   "source": [
    "Save dataframes"
   ]
  },
  {
   "cell_type": "code",
   "execution_count": 111,
   "metadata": {},
   "outputs": [],
   "source": [
    "KTH_frame.to_csv(\"assets/dataframes/all_authors_df_2004\")"
   ]
  },
  {
   "cell_type": "code",
   "execution_count": 112,
   "metadata": {},
   "outputs": [],
   "source": [
    "\n",
    "KTH_author.to_csv(\"assets/dataframes/KT_auth_2004\")"
   ]
  },
  {
   "cell_type": "code",
   "execution_count": 3,
   "metadata": {},
   "outputs": [],
   "source": [
    "KTH_frame = pd.read_csv(\"assets/dataframes/all_authors_df_2004\")"
   ]
  },
  {
   "cell_type": "code",
   "execution_count": 11,
   "metadata": {},
   "outputs": [],
   "source": [
    "nr_words = list()\n",
    "for abstract in KTH_frame.Abstracts:\n",
    "    abs_len = len(abstract.split(\" \"))\n",
    "    nr_words.append(abs_len)\n",
    "nr_words = np.asarray(nr_words)"
   ]
  },
  {
   "cell_type": "code",
   "execution_count": 12,
   "metadata": {},
   "outputs": [
    {
     "name": "stderr",
     "output_type": "stream",
     "text": [
      "/home/ekvall/anaconda3/envs/kth-cluster/lib/python3.6/site-packages/scipy/stats/stats.py:1713: FutureWarning: Using a non-tuple sequence for multidimensional indexing is deprecated; use `arr[tuple(seq)]` instead of `arr[seq]`. In the future this will be interpreted as an array index, `arr[np.array(seq)]`, which will result either in an error or a different result.\n",
      "  return np.add.reduce(sorted[indexer] * weights, axis=axis) / sumval\n"
     ]
    },
    {
     "data": {
      "text/plain": [
       "<matplotlib.axes._subplots.AxesSubplot at 0x7fd825f3acc0>"
      ]
     },
     "execution_count": 12,
     "metadata": {},
     "output_type": "execute_result"
    },
    {
     "data": {
      "image/png": "[encoded data removed]",
      "text/plain": [
       "<Figure size 432x288 with 1 Axes>"
      ]
     },
     "metadata": {
      "needs_background": "light"
     },
     "output_type": "display_data"
    }
   ],
   "source": [
    "sns.distplot(nr_words, hist = False, kde = True,\n",
    "                 kde_kws = {'shade': True, 'linewidth': 3}, \n",
    "                  )"
   ]
  },
  {
   "cell_type": "markdown",
   "metadata": {},
   "source": [
    "I will make secondary df that remove all strange abstract and very short abstracts, see some examples below. The reason is that a window size of 10 will be used, so the abstract shoule be longer than that. Also, less training will be done on thses abstract so they will actully be not very well train – end up with clusters with small abstracts rather then basing it on context."
   ]
  },
  {
   "cell_type": "code",
   "execution_count": 46,
   "metadata": {},
   "outputs": [
    {
     "data": {
      "text/plain": [
       "'Not '"
      ]
     },
     "execution_count": 46,
     "metadata": {},
     "output_type": "execute_result"
    }
   ],
   "source": [
    "KTH_frame.Abstracts[nr_words < 30][1729]"
   ]
  },
  {
   "cell_type": "code",
   "execution_count": 47,
   "metadata": {},
   "outputs": [
    {
     "data": {
      "text/plain": [
       "'We present a general algebraic formalism for homology and cohomology theories for Grassmannians. The formalism is expressed in terms of the action of factorization algebras on exterior powers.'"
      ]
     },
     "execution_count": 47,
     "metadata": {},
     "output_type": "execute_result"
    }
   ],
   "source": [
    "KTH_frame.Abstracts[nr_words < 30][566]"
   ]
  },
  {
   "cell_type": "code",
   "execution_count": 48,
   "metadata": {},
   "outputs": [
    {
     "data": {
      "text/plain": [
       "(83,)"
      ]
     },
     "execution_count": 48,
     "metadata": {},
     "output_type": "execute_result"
    }
   ],
   "source": [
    "KTH_frame.Abstracts[nr_words < 30].shape"
   ]
  },
  {
   "cell_type": "code",
   "execution_count": 51,
   "metadata": {},
   "outputs": [],
   "source": [
    "KTH_frame_small = KTH_frame[nr_words > 30]"
   ]
  },
  {
   "cell_type": "code",
   "execution_count": 52,
   "metadata": {},
   "outputs": [],
   "source": [
    "KTH_frame_small.reset_index(inplace=True)"
   ]
  },
  {
   "cell_type": "code",
   "execution_count": 54,
   "metadata": {},
   "outputs": [],
   "source": [
    "KTH_frame_small.to_csv(\"assets/dataframes/all_authors_df_2004_small\")"
   ]
  },
  {
   "cell_type": "markdown",
   "metadata": {},
   "source": [
    "Save dictonaries"
   ]
  },
  {
   "cell_type": "code",
   "execution_count": 116,
   "metadata": {},
   "outputs": [],
   "source": [
    "class pickle_obj:\n",
    "    def save_obj(self, obj, name ):\n",
    "        with open(name + '.pkl', 'wb') as f:\n",
    "            pickle.dump(obj, f, pickle.HIGHEST_PROTOCOL)\n",
    "    def load_obj(self, name ):\n",
    "        with open('.pkl', 'rb') as f:\n",
    "            return pickle.load(f)"
   ]
  },
  {
   "cell_type": "code",
   "execution_count": 122,
   "metadata": {},
   "outputs": [],
   "source": [
    "!ls \"./assets/dictionaries\""
   ]
  },
  {
   "cell_type": "code",
   "execution_count": 193,
   "metadata": {},
   "outputs": [],
   "source": [
    "auth_id = {v:k for k, v in zip(id_auth.keys(), id_auth.values())}"
   ]
  },
  {
   "cell_type": "code",
   "execution_count": 195,
   "metadata": {},
   "outputs": [],
   "source": [
    "pickle_obj().save_obj(id_auth, \"./assets/dictionaries/id_to_all_auths_2004\" )\n",
    "pickle_obj().save_obj(auth_id, \"./assets/dictionaries/auths_to_all_id_2004\" )"
   ]
  },
  {
   "cell_type": "markdown",
   "metadata": {},
   "source": [
    "# Some further investigation of the data"
   ]
  },
  {
   "cell_type": "code",
   "execution_count": 4,
   "metadata": {},
   "outputs": [],
   "source": [
    "KTH_frame_small = pd.read_csv(\"assets/dataframes/all_authors_df_2004_small\")\n",
    "KTH_author = pd.read_csv(\"assets/dataframes/KT_auth_2004\")"
   ]
  },
  {
   "cell_type": "markdown",
   "metadata": {},
   "source": [
    "Let's check the distribution of authors from different departments"
   ]
  },
  {
   "cell_type": "code",
   "execution_count": null,
   "metadata": {},
   "outputs": [],
   "source": [
    "def authors_dep_and_school(df):\n",
    "    kth_dep = list()\n",
    "    kth_school = list()\n",
    "    no_dep=0\n",
    "    for i in df.KTH_id.unique():\n",
    "        if len(df[df.KTH_id == i].dep_name.values) > 0:\n",
    "            kth_dep += df[df.KTH_id == i].dep_name.unique().tolist()\n",
    "            kth_school += df[df.KTH_id == i].skola_namn.unique().tolist()\n",
    "        else:\n",
    "            no_dep +=1\n",
    "    return kth_dep, kth_school"
   ]
  },
  {
   "cell_type": "code",
   "execution_count": null,
   "metadata": {},
   "outputs": [],
   "source": [
    "kth_dep = list()\n",
    "kth_school = list()\n",
    "no_dep=0\n",
    "for i in KTH_author.KTH_id.unique():\n",
    "    if len(KTH_author[KTH_author.KTH_id == i].dep_name.values) > 0:\n",
    "        kth_dep += KTH_author[KTH_author.KTH_id == i].dep_name.unique().tolist()\n",
    "        kth_school += KTH_author[KTH_author.KTH_id == i].skola_namn.unique().tolist()\n",
    "    else:\n",
    "        no_dep +=1"
   ]
  },
  {
   "cell_type": "code",
   "execution_count": null,
   "metadata": {},
   "outputs": [],
   "source": [
    "kth_dep_s = pd.Series(kth_dep).value_counts().sort_values(ascending=False)"
   ]
  },
  {
   "cell_type": "code",
   "execution_count": null,
   "metadata": {},
   "outputs": [],
   "source": [
    "plt.figure(figsize=(40,20))\n",
    "ax = sns.barplot(kth_dep_s.index, kth_dep_s.values)\n",
    "\n",
    "ax.set_xticklabels(ax.get_xticklabels(), rotation=60, ha=\"right\",fontsize=28)\n",
    "#ax.set_yticklabels(fontsize=23)\n",
    "\n",
    "\n",
    "\n",
    "ax.set_ylabel(\"Counts\",fontsize=60)\n",
    "\n",
    "ax.set_title(\"KTH authors distribution(departments)\",fontsize=80)\n",
    "\n",
    "\n",
    "\n",
    "\n",
    "sns.set(font_scale=3)\n",
    "\n",
    "#plt.show()\n",
    "plt.gcf().subplots_adjust(bottom=0.45)\n",
    "\n",
    "plt.show()\n",
    "\n",
    "plt.savefig(\"assets/figures/authors_departments\")\n"
   ]
  },
  {
   "cell_type": "markdown",
   "metadata": {},
   "source": [
    "Let's check the distribution of authors from different schools"
   ]
  },
  {
   "cell_type": "code",
   "execution_count": null,
   "metadata": {},
   "outputs": [],
   "source": [
    "kth_school_s = pd.Series(kth_school).value_counts().sort_values(ascending=False)"
   ]
  },
  {
   "cell_type": "code",
   "execution_count": null,
   "metadata": {},
   "outputs": [],
   "source": [
    "plt.figure(figsize=(35,23))\n",
    "ax = sns.barplot(kth_school_s.index,kth_school_s.values)\n",
    "\n",
    "ax.set_xticklabels(ax.get_xticklabels(), rotation=50, ha=\"right\",fontsize=30)\n",
    "ax.set_title(\"KTH authors distribution(schools)\",fontsize=50)\n",
    "\n",
    "ax.set_ylabel(\"Counts\",fontsize=30)\n",
    "sns.set(font_scale=3)\n",
    "plt.gcf().subplots_adjust(bottom=0.40)\n",
    "plt.show()\n",
    "plt.savefig(\"assets/figures/authors_departments\")"
   ]
  },
  {
   "cell_type": "markdown",
   "metadata": {},
   "source": [
    "Let's check the distribution of articles from different departments"
   ]
  },
  {
   "cell_type": "code",
   "execution_count": null,
   "metadata": {},
   "outputs": [],
   "source": [
    "kth_dep_doc = list()\n",
    "kth_school_doc = list()\n",
    "no_dep=0\n",
    "for i in KTH_author.Doc_id.unique():\n",
    "    if len(KTH_author[KTH_author.Doc_id == i].Doc_id.values) > 0:\n",
    "        kth_dep_doc += KTH_author[KTH_author.Doc_id == i].dep_name.unique().tolist()\n",
    "        kth_school_doc += KTH_author[KTH_author.Doc_id == i].skola_namn.unique().tolist()\n",
    "    else:\n",
    "        no_dep +=1"
   ]
  },
  {
   "cell_type": "code",
   "execution_count": null,
   "metadata": {},
   "outputs": [],
   "source": [
    "kth_dep_doc_s = pd.Series(kth_dep_doc).value_counts().sort_values(ascending=False)"
   ]
  },
  {
   "cell_type": "code",
   "execution_count": null,
   "metadata": {},
   "outputs": [],
   "source": [
    "plt.figure(figsize=(40,20))\n",
    "#ax = sns.countplot(kth_dep_doc)\n",
    "ax = sns.barplot(kth_dep_doc_s.index, kth_dep_doc_s.values)\n",
    "ax.set_xticklabels(ax.get_xticklabels(), rotation=60, ha=\"right\",fontsize=28)\n",
    "\n",
    "ax.set_ylabel(\"Counts\",fontsize=60)\n",
    "ax.set_title(\"KTH articles distribution(departments)\",fontsize=80)\n",
    "sns.set(font_scale=3)\n",
    "#plt.show()\n",
    "plt.gcf().subplots_adjust(bottom=0.45)\n",
    "plt.show()\n",
    "plt.savefig(\"assets/figures/articles_departments\")"
   ]
  },
  {
   "cell_type": "markdown",
   "metadata": {},
   "source": [
    "Let's check the distribution of articles from different schools"
   ]
  },
  {
   "cell_type": "code",
   "execution_count": null,
   "metadata": {},
   "outputs": [],
   "source": [
    "kth_school_doc_s = pd.Series(kth_school_doc).value_counts().sort_values(ascending=False)"
   ]
  },
  {
   "cell_type": "code",
   "execution_count": null,
   "metadata": {},
   "outputs": [],
   "source": [
    "plt.figure(figsize=(35,23))\n",
    "ax = sns.barplot(kth_school_doc_s.index, kth_school_doc_s.values)\n",
    "\n",
    "ax.set_xticklabels(ax.get_xticklabels(), rotation=50, ha=\"right\",fontsize=30)\n",
    "ax.set_title(\"KTH articles distribution(schools)\",fontsize=50)\n",
    "ax.set_ylabel(\"Counts\",fontsize=30)\n",
    "sns.set(font_scale=3)\n",
    "\n",
    "plt.gcf().subplots_adjust(bottom=0.4)\n",
    "plt.savefig(\"assets/figures/articles_school\")"
   ]
  },
  {
   "cell_type": "code",
   "execution_count": null,
   "metadata": {},
   "outputs": [],
   "source": [
    "kth_dep_s.index"
   ]
  },
  {
   "cell_type": "code",
   "execution_count": null,
   "metadata": {},
   "outputs": [],
   "source": [
    "kth_dep_s.values"
   ]
  },
  {
   "cell_type": "code",
   "execution_count": null,
   "metadata": {},
   "outputs": [],
   "source": [
    "A = kth_dep_s.index.values\n",
    "B = np.array([\"Proteinvetenskap\", \"Teoretisk kemi och biologi\", \n",
    "              \"Medicinteknik och hälsosystem\", \"Industriell bioteknologi\",\n",
    "             \"Genteknologi\"])\n",
    "lf_ix = np.intersect1d(A, B, return_indices=True)[1];lf_ix"
   ]
  },
  {
   "cell_type": "code",
   "execution_count": null,
   "metadata": {},
   "outputs": [],
   "source": []
  },
  {
   "cell_type": "code",
   "execution_count": null,
   "metadata": {},
   "outputs": [],
   "source": [
    "plt.figure(figsize=(40,20))\n",
    "ax = sns.barplot(kth_dep_s.index[lf_ix], kth_dep_s.values[lf_ix])\n",
    "\n",
    "ax.set_xticklabels(ax.get_xticklabels(), rotation=60, ha=\"right\",fontsize=28)\n",
    "\n",
    "\n",
    "ax.set_ylabel(\"Counts\",fontsize=60)\n",
    "\n",
    "ax.set_title(\"KTH Life Science distribution(departments)\",fontsize=80)\n",
    "\n",
    "sns.set(font_scale=3)\n",
    "\n",
    "\n",
    "plt.gcf().subplots_adjust(bottom=0.4)\n",
    "plt.savefig(\"assets/figures/articles_school\")"
   ]
  },
  {
   "cell_type": "code",
   "execution_count": null,
   "metadata": {},
   "outputs": [],
   "source": []
  }
 ],
 "metadata": {
  "kernelspec": {
   "display_name": "kth-cluster",
   "language": "python",
   "name": "kth-cluster"
  },
  "language_info": {
   "codemirror_mode": {
    "name": "ipython",
    "version": 3
   },
   "file_extension": ".py",
   "mimetype": "text/x-python",
   "name": "python",
   "nbconvert_exporter": "python",
   "pygments_lexer": "ipython3",
   "version": "3.6.8"
  }
 },
 "nbformat": 4,
 "nbformat_minor": 2
}
